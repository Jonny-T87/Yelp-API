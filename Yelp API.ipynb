{
 "cells": [
  {
   "cell_type": "markdown",
   "id": "20ae2494",
   "metadata": {},
   "source": [
    "# YELP API"
   ]
  },
  {
   "cell_type": "code",
   "execution_count": 81,
   "id": "bc0a817b",
   "metadata": {},
   "outputs": [],
   "source": [
    "from yelpapi import YelpAPI\n",
    "import json\n",
    "import pandas as pd\n",
    "import numpy as np\n",
    "import matplotlib.pyplot as plt\n",
    "import seaborn as sns"
   ]
  },
  {
   "cell_type": "code",
   "execution_count": 82,
   "id": "a293649d",
   "metadata": {},
   "outputs": [
    {
     "data": {
      "text/plain": [
       "dict_keys(['client-id', 'api-key'])"
      ]
     },
     "execution_count": 82,
     "metadata": {},
     "output_type": "execute_result"
    }
   ],
   "source": [
    "import json\n",
    "with open('C:\\Program Files\\Git\\.secret\\yelp_api.json') as f: #change the path to match YOUR path!!\n",
    "    login = json.load(f)\n",
    "login.keys()"
   ]
  },
  {
   "cell_type": "code",
   "execution_count": 83,
   "id": "cb2e02cc",
   "metadata": {},
   "outputs": [
    {
     "data": {
      "text/plain": [
       "<yelpapi.yelpapi.YelpAPI at 0x182c9929100>"
      ]
     },
     "execution_count": 83,
     "metadata": {},
     "output_type": "execute_result"
    }
   ],
   "source": [
    "from yelpapi import YelpAPI\n",
    "yelp_api = YelpAPI(login['api-key'], timeout_s=5.0)\n",
    "yelp_api"
   ]
  },
  {
   "cell_type": "code",
   "execution_count": 84,
   "id": "07654dfe",
   "metadata": {},
   "outputs": [
    {
     "data": {
      "text/plain": [
       "dict_keys(['businesses', 'total', 'region'])"
      ]
     },
     "execution_count": 84,
     "metadata": {},
     "output_type": "execute_result"
    }
   ],
   "source": [
    "# Quick Test Query\n",
    "results = yelp_api.search_query(location='Baltimore, MD',\n",
    "                                       term='Crab Cake')\n",
    "type(results)\n",
    "results.keys()"
   ]
  },
  {
   "cell_type": "markdown",
   "id": "aa32ed31",
   "metadata": {},
   "source": [
    "# Traversing JSON with Python"
   ]
  },
  {
   "cell_type": "code",
   "execution_count": 85,
   "id": "eed97921",
   "metadata": {},
   "outputs": [
    {
     "data": {
      "text/plain": [
       "dict"
      ]
     },
     "execution_count": 85,
     "metadata": {},
     "output_type": "execute_result"
    }
   ],
   "source": [
    "# Open the jsonfile and display the first level of keys\n",
    "# open API results WITH json module\n",
    "import json\n",
    "with open('Data\\example_yelp_results.json') as f:   #adjust for your path\n",
    "    json_file = json.load(f)\n",
    "    \n",
    "## What type is top-level of json?\n",
    "type(json_file)"
   ]
  },
  {
   "cell_type": "code",
   "execution_count": 86,
   "id": "74e6c391",
   "metadata": {},
   "outputs": [
    {
     "data": {
      "text/plain": [
       "dict_keys(['businesses', 'total', 'region'])"
      ]
     },
     "execution_count": 86,
     "metadata": {},
     "output_type": "execute_result"
    }
   ],
   "source": [
    "#what are the keys\n",
    "json_file.keys()"
   ]
  },
  {
   "cell_type": "code",
   "execution_count": 87,
   "id": "d64103c9",
   "metadata": {},
   "outputs": [
    {
     "data": {
      "text/plain": [
       "dict"
      ]
     },
     "execution_count": 87,
     "metadata": {},
     "output_type": "execute_result"
    }
   ],
   "source": [
    "# what type is region?\n",
    "type(json_file['region'])"
   ]
  },
  {
   "cell_type": "code",
   "execution_count": 88,
   "id": "3f3ea8eb",
   "metadata": {},
   "outputs": [
    {
     "data": {
      "text/plain": [
       "dict_keys(['center'])"
      ]
     },
     "execution_count": 88,
     "metadata": {},
     "output_type": "execute_result"
    }
   ],
   "source": [
    "# what keys are in region?\n",
    "json_file['region'].keys()"
   ]
  },
  {
   "cell_type": "code",
   "execution_count": 89,
   "id": "46957179",
   "metadata": {},
   "outputs": [
    {
     "data": {
      "text/plain": [
       "dict"
      ]
     },
     "execution_count": 89,
     "metadata": {},
     "output_type": "execute_result"
    }
   ],
   "source": [
    "# what type is center?\n",
    "type(json_file['region']['center'])"
   ]
  },
  {
   "cell_type": "code",
   "execution_count": 90,
   "id": "05a0718a",
   "metadata": {},
   "outputs": [
    {
     "data": {
      "text/plain": [
       "dict_keys(['longitude', 'latitude'])"
      ]
     },
     "execution_count": 90,
     "metadata": {},
     "output_type": "execute_result"
    }
   ],
   "source": [
    "# what are the keys in center?\n",
    "json_file['region']['center'].keys()"
   ]
  },
  {
   "cell_type": "code",
   "execution_count": 91,
   "id": "5bc55cd6",
   "metadata": {},
   "outputs": [
    {
     "data": {
      "text/plain": [
       "{'longitude': -76.607666015625, 'latitude': 39.29617825404647}"
      ]
     },
     "execution_count": 91,
     "metadata": {},
     "output_type": "execute_result"
    }
   ],
   "source": [
    "# Visualize the whole center dict, since lat and long are likely single values\n",
    "json_file['region']['center']"
   ]
  },
  {
   "cell_type": "code",
   "execution_count": 92,
   "id": "acf168a5",
   "metadata": {},
   "outputs": [
    {
     "data": {
      "text/plain": [
       "int"
      ]
     },
     "execution_count": 92,
     "metadata": {},
     "output_type": "execute_result"
    }
   ],
   "source": [
    "#total\n",
    "# what is stored under the \"total\" key?\n",
    "type(json_file['total'])"
   ]
  },
  {
   "cell_type": "code",
   "execution_count": 93,
   "id": "73548544",
   "metadata": {},
   "outputs": [
    {
     "data": {
      "text/plain": [
       "435"
      ]
     },
     "execution_count": 93,
     "metadata": {},
     "output_type": "execute_result"
    }
   ],
   "source": [
    "## what is the value?\n",
    "json_file['total']"
   ]
  },
  {
   "cell_type": "code",
   "execution_count": 94,
   "id": "601419af",
   "metadata": {},
   "outputs": [
    {
     "data": {
      "text/plain": [
       "list"
      ]
     },
     "execution_count": 94,
     "metadata": {},
     "output_type": "execute_result"
    }
   ],
   "source": [
    "#businesses\n",
    "# what is in the businesses key?\n",
    "type(json_file['businesses'])"
   ]
  },
  {
   "cell_type": "code",
   "execution_count": 95,
   "id": "1ba0098f",
   "metadata": {},
   "outputs": [
    {
     "data": {
      "text/plain": [
       "20"
      ]
     },
     "execution_count": 95,
     "metadata": {},
     "output_type": "execute_result"
    }
   ],
   "source": [
    "# how long is businesses?\n",
    "len(json_file['businesses'])"
   ]
  },
  {
   "cell_type": "code",
   "execution_count": 96,
   "id": "ff31da2b",
   "metadata": {},
   "outputs": [
    {
     "data": {
      "text/plain": [
       "{'id': 'D9A33FM394q99o4QtK5YwA',\n",
       " 'alias': 'faidleys-seafood-baltimore-3',\n",
       " 'name': 'Faidleys Seafood',\n",
       " 'image_url': 'https://s3-media3.fl.yelpcdn.com/bphoto/OTjVDCVS7pGopH6GZcfjBA/o.jpg',\n",
       " 'is_closed': False,\n",
       " 'url': 'https://www.yelp.com/biz/faidleys-seafood-baltimore-3?adjust_creative=KJtcufKUS887p24u6rjVIQ&utm_campaign=yelp_api_v3&utm_medium=api_v3_business_search&utm_source=KJtcufKUS887p24u6rjVIQ',\n",
       " 'review_count': 1184,\n",
       " 'categories': [{'alias': 'seafood', 'title': 'Seafood'},\n",
       "  {'alias': 'beerbar', 'title': 'Beer Bar'}],\n",
       " 'rating': 4.0,\n",
       " 'coordinates': {'latitude': 39.291696, 'longitude': -76.62224},\n",
       " 'transactions': ['delivery'],\n",
       " 'price': '$$',\n",
       " 'location': {'address1': '203 N Paca St',\n",
       "  'address2': '',\n",
       "  'address3': '',\n",
       "  'city': 'Baltimore',\n",
       "  'zip_code': '21201',\n",
       "  'country': 'US',\n",
       "  'state': 'MD',\n",
       "  'display_address': ['203 N Paca St', 'Baltimore, MD 21201']},\n",
       " 'phone': '+14107274898',\n",
       " 'display_phone': '(410) 727-4898',\n",
       " 'distance': 1349.560720156645}"
      ]
     },
     "execution_count": 96,
     "metadata": {},
     "output_type": "execute_result"
    }
   ],
   "source": [
    "# what does the first entry of business look like?\n",
    "json_file['businesses'][0]"
   ]
  },
  {
   "cell_type": "code",
   "execution_count": 97,
   "id": "811fc8d1",
   "metadata": {},
   "outputs": [
    {
     "data": {
      "text/plain": [
       "dict_keys(['id', 'alias', 'name', 'image_url', 'is_closed', 'url', 'review_count', 'categories', 'rating', 'coordinates', 'transactions', 'price', 'location', 'phone', 'display_phone', 'distance'])"
      ]
     },
     "execution_count": 97,
     "metadata": {},
     "output_type": "execute_result"
    }
   ],
   "source": [
    "## what are the keys of the first entry in businesses?\n",
    "json_file['businesses'][0].keys()"
   ]
  },
  {
   "cell_type": "code",
   "execution_count": 98,
   "id": "ffda4790",
   "metadata": {},
   "outputs": [
    {
     "data": {
      "text/plain": [
       "dict_keys(['id', 'alias', 'name', 'image_url', 'is_closed', 'url', 'review_count', 'categories', 'rating', 'coordinates', 'transactions', 'price', 'location', 'phone', 'display_phone', 'distance'])"
      ]
     },
     "execution_count": 98,
     "metadata": {},
     "output_type": "execute_result"
    }
   ],
   "source": [
    "## what are the keys of the NEXT entry in businesses? Do they math the first?\n",
    "json_file['businesses'][1].keys()"
   ]
  },
  {
   "cell_type": "code",
   "execution_count": 99,
   "id": "d6945df5",
   "metadata": {},
   "outputs": [
    {
     "data": {
      "text/html": [
       "<div>\n",
       "<style scoped>\n",
       "    .dataframe tbody tr th:only-of-type {\n",
       "        vertical-align: middle;\n",
       "    }\n",
       "\n",
       "    .dataframe tbody tr th {\n",
       "        vertical-align: top;\n",
       "    }\n",
       "\n",
       "    .dataframe thead th {\n",
       "        text-align: right;\n",
       "    }\n",
       "</style>\n",
       "<table border=\"1\" class=\"dataframe\">\n",
       "  <thead>\n",
       "    <tr style=\"text-align: right;\">\n",
       "      <th></th>\n",
       "      <th>id</th>\n",
       "      <th>alias</th>\n",
       "      <th>name</th>\n",
       "      <th>image_url</th>\n",
       "      <th>is_closed</th>\n",
       "      <th>url</th>\n",
       "      <th>review_count</th>\n",
       "      <th>categories</th>\n",
       "      <th>rating</th>\n",
       "      <th>coordinates</th>\n",
       "      <th>transactions</th>\n",
       "      <th>price</th>\n",
       "      <th>location</th>\n",
       "      <th>phone</th>\n",
       "      <th>display_phone</th>\n",
       "      <th>distance</th>\n",
       "    </tr>\n",
       "  </thead>\n",
       "  <tbody>\n",
       "    <tr>\n",
       "      <th>0</th>\n",
       "      <td>D9A33FM394q99o4QtK5YwA</td>\n",
       "      <td>faidleys-seafood-baltimore-3</td>\n",
       "      <td>Faidleys Seafood</td>\n",
       "      <td>https://s3-media3.fl.yelpcdn.com/bphoto/OTjVDC...</td>\n",
       "      <td>False</td>\n",
       "      <td>https://www.yelp.com/biz/faidleys-seafood-balt...</td>\n",
       "      <td>1184</td>\n",
       "      <td>[{'alias': 'seafood', 'title': 'Seafood'}, {'a...</td>\n",
       "      <td>4.0</td>\n",
       "      <td>{'latitude': 39.291696, 'longitude': -76.62224}</td>\n",
       "      <td>[delivery]</td>\n",
       "      <td>$$</td>\n",
       "      <td>{'address1': '203 N Paca St', 'address2': '', ...</td>\n",
       "      <td>+14107274898</td>\n",
       "      <td>(410) 727-4898</td>\n",
       "      <td>1349.560720</td>\n",
       "    </tr>\n",
       "    <tr>\n",
       "      <th>1</th>\n",
       "      <td>u65W69AhbjUlvJJBkEhGNQ</td>\n",
       "      <td>miss-shirleys-cafe-baltimore-9</td>\n",
       "      <td>Miss Shirley's Cafe</td>\n",
       "      <td>https://s3-media4.fl.yelpcdn.com/bphoto/9FsOyV...</td>\n",
       "      <td>False</td>\n",
       "      <td>https://www.yelp.com/biz/miss-shirleys-cafe-ba...</td>\n",
       "      <td>2919</td>\n",
       "      <td>[{'alias': 'breakfast_brunch', 'title': 'Break...</td>\n",
       "      <td>4.0</td>\n",
       "      <td>{'latitude': 39.2870995, 'longitude': -76.6053...</td>\n",
       "      <td>[delivery, pickup]</td>\n",
       "      <td>$$</td>\n",
       "      <td>{'address1': '750 E Pratt St', 'address2': '',...</td>\n",
       "      <td>+14105285373</td>\n",
       "      <td>(410) 528-5373</td>\n",
       "      <td>1028.736468</td>\n",
       "    </tr>\n",
       "    <tr>\n",
       "      <th>2</th>\n",
       "      <td>ieS_5zqxDHcWMCm8BKUYbg</td>\n",
       "      <td>thames-street-oyster-house-baltimore</td>\n",
       "      <td>Thames Street Oyster House</td>\n",
       "      <td>https://s3-media1.fl.yelpcdn.com/bphoto/9hGjo5...</td>\n",
       "      <td>False</td>\n",
       "      <td>https://www.yelp.com/biz/thames-street-oyster-...</td>\n",
       "      <td>2729</td>\n",
       "      <td>[{'alias': 'seafood', 'title': 'Seafood'}, {'a...</td>\n",
       "      <td>4.5</td>\n",
       "      <td>{'latitude': 39.28214, 'longitude': -76.59162}</td>\n",
       "      <td>[delivery]</td>\n",
       "      <td>$$$</td>\n",
       "      <td>{'address1': '1728 Thames St', 'address2': '',...</td>\n",
       "      <td>+14434497726</td>\n",
       "      <td>(443) 449-7726</td>\n",
       "      <td>2090.712792</td>\n",
       "    </tr>\n",
       "    <tr>\n",
       "      <th>3</th>\n",
       "      <td>6am8TZAFnvND52MOz-Yctg</td>\n",
       "      <td>mamas-on-the-half-shell-baltimore</td>\n",
       "      <td>Mama's On The Half Shell</td>\n",
       "      <td>https://s3-media2.fl.yelpcdn.com/bphoto/HWY8OF...</td>\n",
       "      <td>False</td>\n",
       "      <td>https://www.yelp.com/biz/mamas-on-the-half-she...</td>\n",
       "      <td>1279</td>\n",
       "      <td>[{'alias': 'bars', 'title': 'Bars'}, {'alias':...</td>\n",
       "      <td>4.0</td>\n",
       "      <td>{'latitude': 39.27986, 'longitude': -76.5752399}</td>\n",
       "      <td>[delivery, pickup]</td>\n",
       "      <td>$$</td>\n",
       "      <td>{'address1': '2901 Odonnell St', 'address2': '...</td>\n",
       "      <td>+14102763160</td>\n",
       "      <td>(410) 276-3160</td>\n",
       "      <td>3328.825798</td>\n",
       "    </tr>\n",
       "    <tr>\n",
       "      <th>4</th>\n",
       "      <td>ISn7WyGQaFpsVSRSh0NSqg</td>\n",
       "      <td>sal-and-sons-baltimore</td>\n",
       "      <td>Sal and Sons</td>\n",
       "      <td>https://s3-media3.fl.yelpcdn.com/bphoto/LmVL4j...</td>\n",
       "      <td>False</td>\n",
       "      <td>https://www.yelp.com/biz/sal-and-sons-baltimor...</td>\n",
       "      <td>153</td>\n",
       "      <td>[{'alias': 'seafood', 'title': 'Seafood'}, {'a...</td>\n",
       "      <td>4.5</td>\n",
       "      <td>{'latitude': 39.284, 'longitude': -76.59337}</td>\n",
       "      <td>[delivery]</td>\n",
       "      <td>$</td>\n",
       "      <td>{'address1': '1640 Aliceanna St', 'address2': ...</td>\n",
       "      <td>+14106751466</td>\n",
       "      <td>(410) 675-1466</td>\n",
       "      <td>1817.406978</td>\n",
       "    </tr>\n",
       "  </tbody>\n",
       "</table>\n",
       "</div>"
      ],
      "text/plain": [
       "                       id                                 alias  \\\n",
       "0  D9A33FM394q99o4QtK5YwA          faidleys-seafood-baltimore-3   \n",
       "1  u65W69AhbjUlvJJBkEhGNQ        miss-shirleys-cafe-baltimore-9   \n",
       "2  ieS_5zqxDHcWMCm8BKUYbg  thames-street-oyster-house-baltimore   \n",
       "3  6am8TZAFnvND52MOz-Yctg     mamas-on-the-half-shell-baltimore   \n",
       "4  ISn7WyGQaFpsVSRSh0NSqg                sal-and-sons-baltimore   \n",
       "\n",
       "                         name  \\\n",
       "0            Faidleys Seafood   \n",
       "1         Miss Shirley's Cafe   \n",
       "2  Thames Street Oyster House   \n",
       "3    Mama's On The Half Shell   \n",
       "4                Sal and Sons   \n",
       "\n",
       "                                           image_url  is_closed  \\\n",
       "0  https://s3-media3.fl.yelpcdn.com/bphoto/OTjVDC...      False   \n",
       "1  https://s3-media4.fl.yelpcdn.com/bphoto/9FsOyV...      False   \n",
       "2  https://s3-media1.fl.yelpcdn.com/bphoto/9hGjo5...      False   \n",
       "3  https://s3-media2.fl.yelpcdn.com/bphoto/HWY8OF...      False   \n",
       "4  https://s3-media3.fl.yelpcdn.com/bphoto/LmVL4j...      False   \n",
       "\n",
       "                                                 url  review_count  \\\n",
       "0  https://www.yelp.com/biz/faidleys-seafood-balt...          1184   \n",
       "1  https://www.yelp.com/biz/miss-shirleys-cafe-ba...          2919   \n",
       "2  https://www.yelp.com/biz/thames-street-oyster-...          2729   \n",
       "3  https://www.yelp.com/biz/mamas-on-the-half-she...          1279   \n",
       "4  https://www.yelp.com/biz/sal-and-sons-baltimor...           153   \n",
       "\n",
       "                                          categories  rating  \\\n",
       "0  [{'alias': 'seafood', 'title': 'Seafood'}, {'a...     4.0   \n",
       "1  [{'alias': 'breakfast_brunch', 'title': 'Break...     4.0   \n",
       "2  [{'alias': 'seafood', 'title': 'Seafood'}, {'a...     4.5   \n",
       "3  [{'alias': 'bars', 'title': 'Bars'}, {'alias':...     4.0   \n",
       "4  [{'alias': 'seafood', 'title': 'Seafood'}, {'a...     4.5   \n",
       "\n",
       "                                         coordinates        transactions  \\\n",
       "0    {'latitude': 39.291696, 'longitude': -76.62224}          [delivery]   \n",
       "1  {'latitude': 39.2870995, 'longitude': -76.6053...  [delivery, pickup]   \n",
       "2     {'latitude': 39.28214, 'longitude': -76.59162}          [delivery]   \n",
       "3   {'latitude': 39.27986, 'longitude': -76.5752399}  [delivery, pickup]   \n",
       "4       {'latitude': 39.284, 'longitude': -76.59337}          [delivery]   \n",
       "\n",
       "  price                                           location         phone  \\\n",
       "0    $$  {'address1': '203 N Paca St', 'address2': '', ...  +14107274898   \n",
       "1    $$  {'address1': '750 E Pratt St', 'address2': '',...  +14105285373   \n",
       "2   $$$  {'address1': '1728 Thames St', 'address2': '',...  +14434497726   \n",
       "3    $$  {'address1': '2901 Odonnell St', 'address2': '...  +14102763160   \n",
       "4     $  {'address1': '1640 Aliceanna St', 'address2': ...  +14106751466   \n",
       "\n",
       "    display_phone     distance  \n",
       "0  (410) 727-4898  1349.560720  \n",
       "1  (410) 528-5373  1028.736468  \n",
       "2  (443) 449-7726  2090.712792  \n",
       "3  (410) 276-3160  3328.825798  \n",
       "4  (410) 675-1466  1817.406978  "
      ]
     },
     "execution_count": 99,
     "metadata": {},
     "output_type": "execute_result"
    }
   ],
   "source": [
    "#identifying \"records\"\n",
    "import pandas as pd\n",
    "df_businesses = pd.DataFrame(json_file['businesses'])\n",
    "df_businesses.head()"
   ]
  },
  {
   "cell_type": "markdown",
   "id": "a79474fa",
   "metadata": {},
   "source": [
    "# How to Use YelpAPI"
   ]
  },
  {
   "cell_type": "code",
   "execution_count": 100,
   "id": "07945423",
   "metadata": {},
   "outputs": [
    {
     "data": {
      "text/plain": [
       "<yelpapi.yelpapi.YelpAPI at 0x182c994caf0>"
      ]
     },
     "execution_count": 100,
     "metadata": {},
     "output_type": "execute_result"
    }
   ],
   "source": [
    "# import the YelpAPI Class\n",
    "from yelpapi import YelpAPI\n",
    "# Create an instance with your key\n",
    "yelp_api = YelpAPI(login['api-key'], timeout_s=5.0)\n",
    "yelp_api"
   ]
  },
  {
   "cell_type": "code",
   "execution_count": 101,
   "id": "25a74f52",
   "metadata": {},
   "outputs": [
    {
     "name": "stdout",
     "output_type": "stream",
     "text": [
      "Help on method search_query in module yelpapi.yelpapi:\n",
      "\n",
      "search_query(**kwargs) method of yelpapi.yelpapi.YelpAPI instance\n",
      "    Query the Yelp Search API.\n",
      "    \n",
      "    documentation: https://www.yelp.com/developers/documentation/v3/business_search\n",
      "    \n",
      "    required parameters:\n",
      "        * one of either:\n",
      "            * location - text specifying a location to search for\n",
      "            * latitude and longitude\n",
      "\n"
     ]
    }
   ],
   "source": [
    "help(yelp_api.search_query)"
   ]
  },
  {
   "cell_type": "code",
   "execution_count": 102,
   "id": "4ac8b54e",
   "metadata": {},
   "outputs": [
    {
     "name": "stdout",
     "output_type": "stream",
     "text": [
      "<class 'dict'>\n"
     ]
    },
    {
     "data": {
      "text/plain": [
       "dict_keys(['businesses', 'total', 'region'])"
      ]
     },
     "execution_count": 102,
     "metadata": {},
     "output_type": "execute_result"
    }
   ],
   "source": [
    "# use our yelp_api variable's search_query method to perform our API call\n",
    "search_results = yelp_api.search_query(location='Baltimore, MD,21202',\n",
    "                                       term='Crab Cakes')\n",
    "print(type(search_results))\n",
    "search_results.keys()"
   ]
  },
  {
   "cell_type": "code",
   "execution_count": 103,
   "id": "90fff9d0",
   "metadata": {},
   "outputs": [
    {
     "data": {
      "text/plain": [
       "439"
      ]
     },
     "execution_count": 103,
     "metadata": {},
     "output_type": "execute_result"
    }
   ],
   "source": [
    "search_results['total']"
   ]
  },
  {
   "cell_type": "code",
   "execution_count": 104,
   "id": "815ddc70",
   "metadata": {},
   "outputs": [
    {
     "data": {
      "text/html": [
       "<div>\n",
       "<style scoped>\n",
       "    .dataframe tbody tr th:only-of-type {\n",
       "        vertical-align: middle;\n",
       "    }\n",
       "\n",
       "    .dataframe tbody tr th {\n",
       "        vertical-align: top;\n",
       "    }\n",
       "\n",
       "    .dataframe thead th {\n",
       "        text-align: right;\n",
       "    }\n",
       "</style>\n",
       "<table border=\"1\" class=\"dataframe\">\n",
       "  <thead>\n",
       "    <tr style=\"text-align: right;\">\n",
       "      <th></th>\n",
       "      <th>id</th>\n",
       "      <th>alias</th>\n",
       "      <th>name</th>\n",
       "      <th>image_url</th>\n",
       "      <th>is_closed</th>\n",
       "      <th>url</th>\n",
       "      <th>review_count</th>\n",
       "      <th>categories</th>\n",
       "      <th>rating</th>\n",
       "      <th>coordinates</th>\n",
       "      <th>transactions</th>\n",
       "      <th>price</th>\n",
       "      <th>location</th>\n",
       "      <th>phone</th>\n",
       "      <th>display_phone</th>\n",
       "      <th>distance</th>\n",
       "    </tr>\n",
       "  </thead>\n",
       "  <tbody>\n",
       "    <tr>\n",
       "      <th>0</th>\n",
       "      <td>ieS_5zqxDHcWMCm8BKUYbg</td>\n",
       "      <td>thames-street-oyster-house-baltimore</td>\n",
       "      <td>Thames Street Oyster House</td>\n",
       "      <td>https://s3-media1.fl.yelpcdn.com/bphoto/9hGjo5...</td>\n",
       "      <td>False</td>\n",
       "      <td>https://www.yelp.com/biz/thames-street-oyster-...</td>\n",
       "      <td>2847</td>\n",
       "      <td>[{'alias': 'seafood', 'title': 'Seafood'}, {'a...</td>\n",
       "      <td>4.5</td>\n",
       "      <td>{'latitude': 39.28214, 'longitude': -76.59162}</td>\n",
       "      <td>[delivery]</td>\n",
       "      <td>$$$</td>\n",
       "      <td>{'address1': '1728 Thames St', 'address2': '',...</td>\n",
       "      <td>+14434497726</td>\n",
       "      <td>(443) 449-7726</td>\n",
       "      <td>2090.712792</td>\n",
       "    </tr>\n",
       "    <tr>\n",
       "      <th>1</th>\n",
       "      <td>D9A33FM394q99o4QtK5YwA</td>\n",
       "      <td>faidleys-seafood-baltimore-3</td>\n",
       "      <td>Faidley's Seafood</td>\n",
       "      <td>https://s3-media3.fl.yelpcdn.com/bphoto/8j3ynZ...</td>\n",
       "      <td>False</td>\n",
       "      <td>https://www.yelp.com/biz/faidleys-seafood-balt...</td>\n",
       "      <td>1231</td>\n",
       "      <td>[{'alias': 'seafood', 'title': 'Seafood'}, {'a...</td>\n",
       "      <td>4.0</td>\n",
       "      <td>{'latitude': 39.291696, 'longitude': -76.62224}</td>\n",
       "      <td>[delivery]</td>\n",
       "      <td>$$</td>\n",
       "      <td>{'address1': '203 N Paca St', 'address2': '', ...</td>\n",
       "      <td>+14107274898</td>\n",
       "      <td>(410) 727-4898</td>\n",
       "      <td>1349.560720</td>\n",
       "    </tr>\n",
       "  </tbody>\n",
       "</table>\n",
       "</div>"
      ],
      "text/plain": [
       "                       id                                 alias  \\\n",
       "0  ieS_5zqxDHcWMCm8BKUYbg  thames-street-oyster-house-baltimore   \n",
       "1  D9A33FM394q99o4QtK5YwA          faidleys-seafood-baltimore-3   \n",
       "\n",
       "                         name  \\\n",
       "0  Thames Street Oyster House   \n",
       "1           Faidley's Seafood   \n",
       "\n",
       "                                           image_url  is_closed  \\\n",
       "0  https://s3-media1.fl.yelpcdn.com/bphoto/9hGjo5...      False   \n",
       "1  https://s3-media3.fl.yelpcdn.com/bphoto/8j3ynZ...      False   \n",
       "\n",
       "                                                 url  review_count  \\\n",
       "0  https://www.yelp.com/biz/thames-street-oyster-...          2847   \n",
       "1  https://www.yelp.com/biz/faidleys-seafood-balt...          1231   \n",
       "\n",
       "                                          categories  rating  \\\n",
       "0  [{'alias': 'seafood', 'title': 'Seafood'}, {'a...     4.5   \n",
       "1  [{'alias': 'seafood', 'title': 'Seafood'}, {'a...     4.0   \n",
       "\n",
       "                                       coordinates transactions price  \\\n",
       "0   {'latitude': 39.28214, 'longitude': -76.59162}   [delivery]   $$$   \n",
       "1  {'latitude': 39.291696, 'longitude': -76.62224}   [delivery]    $$   \n",
       "\n",
       "                                            location         phone  \\\n",
       "0  {'address1': '1728 Thames St', 'address2': '',...  +14434497726   \n",
       "1  {'address1': '203 N Paca St', 'address2': '', ...  +14107274898   \n",
       "\n",
       "    display_phone     distance  \n",
       "0  (443) 449-7726  2090.712792  \n",
       "1  (410) 727-4898  1349.560720  "
      ]
     },
     "execution_count": 104,
     "metadata": {},
     "output_type": "execute_result"
    }
   ],
   "source": [
    "biz = pd.DataFrame(search_results['businesses'])\n",
    "biz.head(2)"
   ]
  },
  {
   "cell_type": "code",
   "execution_count": 105,
   "id": "acd0081f",
   "metadata": {},
   "outputs": [
    {
     "data": {
      "text/plain": [
       "439"
      ]
     },
     "execution_count": 105,
     "metadata": {},
     "output_type": "execute_result"
    }
   ],
   "source": [
    "## total number of matching businesses\n",
    "search_results['total']"
   ]
  },
  {
   "cell_type": "code",
   "execution_count": 106,
   "id": "b032eb8c",
   "metadata": {},
   "outputs": [
    {
     "data": {
      "text/plain": [
       "20"
      ]
     },
     "execution_count": 106,
     "metadata": {},
     "output_type": "execute_result"
    }
   ],
   "source": [
    "## how many businesses in our results\n",
    "len(search_results['businesses'])"
   ]
  },
  {
   "cell_type": "code",
   "execution_count": 107,
   "id": "900f378d",
   "metadata": {},
   "outputs": [],
   "source": [
    "# add offset to our original api call\n",
    "search_results = yelp_api.search_query(location='Baltimore, MD,21202',\n",
    "                                       term='Crab Cakes',\n",
    "                                       offset = 20)"
   ]
  },
  {
   "cell_type": "code",
   "execution_count": 108,
   "id": "5aade865",
   "metadata": {},
   "outputs": [
    {
     "data": {
      "text/html": [
       "<div>\n",
       "<style scoped>\n",
       "    .dataframe tbody tr th:only-of-type {\n",
       "        vertical-align: middle;\n",
       "    }\n",
       "\n",
       "    .dataframe tbody tr th {\n",
       "        vertical-align: top;\n",
       "    }\n",
       "\n",
       "    .dataframe thead th {\n",
       "        text-align: right;\n",
       "    }\n",
       "</style>\n",
       "<table border=\"1\" class=\"dataframe\">\n",
       "  <thead>\n",
       "    <tr style=\"text-align: right;\">\n",
       "      <th></th>\n",
       "      <th>id</th>\n",
       "      <th>alias</th>\n",
       "      <th>name</th>\n",
       "      <th>image_url</th>\n",
       "      <th>is_closed</th>\n",
       "      <th>url</th>\n",
       "      <th>review_count</th>\n",
       "      <th>categories</th>\n",
       "      <th>rating</th>\n",
       "      <th>coordinates</th>\n",
       "      <th>transactions</th>\n",
       "      <th>price</th>\n",
       "      <th>location</th>\n",
       "      <th>phone</th>\n",
       "      <th>display_phone</th>\n",
       "      <th>distance</th>\n",
       "    </tr>\n",
       "  </thead>\n",
       "  <tbody>\n",
       "    <tr>\n",
       "      <th>0</th>\n",
       "      <td>d8hR3Vr27uoYMXaK5PIW0w</td>\n",
       "      <td>loch-bar-baltimore</td>\n",
       "      <td>Loch Bar</td>\n",
       "      <td>https://s3-media1.fl.yelpcdn.com/bphoto/9Svi9T...</td>\n",
       "      <td>False</td>\n",
       "      <td>https://www.yelp.com/biz/loch-bar-baltimore?ad...</td>\n",
       "      <td>419</td>\n",
       "      <td>[{'alias': 'seafood', 'title': 'Seafood'}, {'a...</td>\n",
       "      <td>4.0</td>\n",
       "      <td>{'latitude': 39.282368, 'longitude': -76.602319}</td>\n",
       "      <td>[delivery]</td>\n",
       "      <td>$$$</td>\n",
       "      <td>{'address1': '240 International Dr', 'address2...</td>\n",
       "      <td>+14439618949</td>\n",
       "      <td>(443) 961-8949</td>\n",
       "      <td>1603.092900</td>\n",
       "    </tr>\n",
       "    <tr>\n",
       "      <th>1</th>\n",
       "      <td>ReNdW79g_1cxrgCJpFn7cA</td>\n",
       "      <td>b-and-o-american-brasserie-baltimore</td>\n",
       "      <td>B&amp;O American Brasserie</td>\n",
       "      <td>https://s3-media1.fl.yelpcdn.com/bphoto/h4R0v-...</td>\n",
       "      <td>False</td>\n",
       "      <td>https://www.yelp.com/biz/b-and-o-american-bras...</td>\n",
       "      <td>588</td>\n",
       "      <td>[{'alias': 'newamerican', 'title': 'American (...</td>\n",
       "      <td>4.0</td>\n",
       "      <td>{'latitude': 39.2899436853933, 'longitude': -7...</td>\n",
       "      <td>[delivery, pickup]</td>\n",
       "      <td>$$</td>\n",
       "      <td>{'address1': '2 N Charles St', 'address2': '',...</td>\n",
       "      <td>+14436926172</td>\n",
       "      <td>(443) 692-6172</td>\n",
       "      <td>958.642226</td>\n",
       "    </tr>\n",
       "  </tbody>\n",
       "</table>\n",
       "</div>"
      ],
      "text/plain": [
       "                       id                                 alias  \\\n",
       "0  d8hR3Vr27uoYMXaK5PIW0w                    loch-bar-baltimore   \n",
       "1  ReNdW79g_1cxrgCJpFn7cA  b-and-o-american-brasserie-baltimore   \n",
       "\n",
       "                     name                                          image_url  \\\n",
       "0                Loch Bar  https://s3-media1.fl.yelpcdn.com/bphoto/9Svi9T...   \n",
       "1  B&O American Brasserie  https://s3-media1.fl.yelpcdn.com/bphoto/h4R0v-...   \n",
       "\n",
       "   is_closed                                                url  review_count  \\\n",
       "0      False  https://www.yelp.com/biz/loch-bar-baltimore?ad...           419   \n",
       "1      False  https://www.yelp.com/biz/b-and-o-american-bras...           588   \n",
       "\n",
       "                                          categories  rating  \\\n",
       "0  [{'alias': 'seafood', 'title': 'Seafood'}, {'a...     4.0   \n",
       "1  [{'alias': 'newamerican', 'title': 'American (...     4.0   \n",
       "\n",
       "                                         coordinates        transactions  \\\n",
       "0   {'latitude': 39.282368, 'longitude': -76.602319}          [delivery]   \n",
       "1  {'latitude': 39.2899436853933, 'longitude': -7...  [delivery, pickup]   \n",
       "\n",
       "  price                                           location         phone  \\\n",
       "0   $$$  {'address1': '240 International Dr', 'address2...  +14439618949   \n",
       "1    $$  {'address1': '2 N Charles St', 'address2': '',...  +14436926172   \n",
       "\n",
       "    display_phone     distance  \n",
       "0  (443) 961-8949  1603.092900  \n",
       "1  (443) 692-6172   958.642226  "
      ]
     },
     "execution_count": 108,
     "metadata": {},
     "output_type": "execute_result"
    }
   ],
   "source": [
    "biz20 = pd.DataFrame(search_results['businesses'])\n",
    "biz20.head(2)"
   ]
  },
  {
   "cell_type": "code",
   "execution_count": 109,
   "id": "3617ef37",
   "metadata": {},
   "outputs": [
    {
     "data": {
      "text/html": [
       "<div>\n",
       "<style scoped>\n",
       "    .dataframe tbody tr th:only-of-type {\n",
       "        vertical-align: middle;\n",
       "    }\n",
       "\n",
       "    .dataframe tbody tr th {\n",
       "        vertical-align: top;\n",
       "    }\n",
       "\n",
       "    .dataframe thead th {\n",
       "        text-align: right;\n",
       "    }\n",
       "</style>\n",
       "<table border=\"1\" class=\"dataframe\">\n",
       "  <thead>\n",
       "    <tr style=\"text-align: right;\">\n",
       "      <th></th>\n",
       "      <th>id</th>\n",
       "      <th>alias</th>\n",
       "      <th>name</th>\n",
       "      <th>image_url</th>\n",
       "      <th>is_closed</th>\n",
       "      <th>url</th>\n",
       "      <th>review_count</th>\n",
       "      <th>categories</th>\n",
       "      <th>rating</th>\n",
       "      <th>coordinates</th>\n",
       "      <th>transactions</th>\n",
       "      <th>price</th>\n",
       "      <th>location</th>\n",
       "      <th>phone</th>\n",
       "      <th>display_phone</th>\n",
       "      <th>distance</th>\n",
       "    </tr>\n",
       "  </thead>\n",
       "  <tbody>\n",
       "    <tr>\n",
       "      <th>0</th>\n",
       "      <td>ieS_5zqxDHcWMCm8BKUYbg</td>\n",
       "      <td>thames-street-oyster-house-baltimore</td>\n",
       "      <td>Thames Street Oyster House</td>\n",
       "      <td>https://s3-media1.fl.yelpcdn.com/bphoto/9hGjo5...</td>\n",
       "      <td>False</td>\n",
       "      <td>https://www.yelp.com/biz/thames-street-oyster-...</td>\n",
       "      <td>2847</td>\n",
       "      <td>[{'alias': 'seafood', 'title': 'Seafood'}, {'a...</td>\n",
       "      <td>4.5</td>\n",
       "      <td>{'latitude': 39.28214, 'longitude': -76.59162}</td>\n",
       "      <td>[delivery]</td>\n",
       "      <td>$$$</td>\n",
       "      <td>{'address1': '1728 Thames St', 'address2': '',...</td>\n",
       "      <td>+14434497726</td>\n",
       "      <td>(443) 449-7726</td>\n",
       "      <td>2090.712792</td>\n",
       "    </tr>\n",
       "    <tr>\n",
       "      <th>1</th>\n",
       "      <td>D9A33FM394q99o4QtK5YwA</td>\n",
       "      <td>faidleys-seafood-baltimore-3</td>\n",
       "      <td>Faidley's Seafood</td>\n",
       "      <td>https://s3-media3.fl.yelpcdn.com/bphoto/8j3ynZ...</td>\n",
       "      <td>False</td>\n",
       "      <td>https://www.yelp.com/biz/faidleys-seafood-balt...</td>\n",
       "      <td>1231</td>\n",
       "      <td>[{'alias': 'seafood', 'title': 'Seafood'}, {'a...</td>\n",
       "      <td>4.0</td>\n",
       "      <td>{'latitude': 39.291696, 'longitude': -76.62224}</td>\n",
       "      <td>[delivery]</td>\n",
       "      <td>$$</td>\n",
       "      <td>{'address1': '203 N Paca St', 'address2': '', ...</td>\n",
       "      <td>+14107274898</td>\n",
       "      <td>(410) 727-4898</td>\n",
       "      <td>1349.560720</td>\n",
       "    </tr>\n",
       "    <tr>\n",
       "      <th>2</th>\n",
       "      <td>u65W69AhbjUlvJJBkEhGNQ</td>\n",
       "      <td>miss-shirleys-cafe-baltimore-9</td>\n",
       "      <td>Miss Shirley's Cafe</td>\n",
       "      <td>https://s3-media2.fl.yelpcdn.com/bphoto/Guq6JM...</td>\n",
       "      <td>False</td>\n",
       "      <td>https://www.yelp.com/biz/miss-shirleys-cafe-ba...</td>\n",
       "      <td>3069</td>\n",
       "      <td>[{'alias': 'breakfast_brunch', 'title': 'Break...</td>\n",
       "      <td>4.0</td>\n",
       "      <td>{'latitude': 39.2870995, 'longitude': -76.6053...</td>\n",
       "      <td>[delivery]</td>\n",
       "      <td>$$</td>\n",
       "      <td>{'address1': '750 E Pratt St', 'address2': '',...</td>\n",
       "      <td>+14105285373</td>\n",
       "      <td>(410) 528-5373</td>\n",
       "      <td>1028.736468</td>\n",
       "    </tr>\n",
       "  </tbody>\n",
       "</table>\n",
       "</div>"
      ],
      "text/plain": [
       "                       id                                 alias  \\\n",
       "0  ieS_5zqxDHcWMCm8BKUYbg  thames-street-oyster-house-baltimore   \n",
       "1  D9A33FM394q99o4QtK5YwA          faidleys-seafood-baltimore-3   \n",
       "2  u65W69AhbjUlvJJBkEhGNQ        miss-shirleys-cafe-baltimore-9   \n",
       "\n",
       "                         name  \\\n",
       "0  Thames Street Oyster House   \n",
       "1           Faidley's Seafood   \n",
       "2         Miss Shirley's Cafe   \n",
       "\n",
       "                                           image_url  is_closed  \\\n",
       "0  https://s3-media1.fl.yelpcdn.com/bphoto/9hGjo5...      False   \n",
       "1  https://s3-media3.fl.yelpcdn.com/bphoto/8j3ynZ...      False   \n",
       "2  https://s3-media2.fl.yelpcdn.com/bphoto/Guq6JM...      False   \n",
       "\n",
       "                                                 url  review_count  \\\n",
       "0  https://www.yelp.com/biz/thames-street-oyster-...          2847   \n",
       "1  https://www.yelp.com/biz/faidleys-seafood-balt...          1231   \n",
       "2  https://www.yelp.com/biz/miss-shirleys-cafe-ba...          3069   \n",
       "\n",
       "                                          categories  rating  \\\n",
       "0  [{'alias': 'seafood', 'title': 'Seafood'}, {'a...     4.5   \n",
       "1  [{'alias': 'seafood', 'title': 'Seafood'}, {'a...     4.0   \n",
       "2  [{'alias': 'breakfast_brunch', 'title': 'Break...     4.0   \n",
       "\n",
       "                                         coordinates transactions price  \\\n",
       "0     {'latitude': 39.28214, 'longitude': -76.59162}   [delivery]   $$$   \n",
       "1    {'latitude': 39.291696, 'longitude': -76.62224}   [delivery]    $$   \n",
       "2  {'latitude': 39.2870995, 'longitude': -76.6053...   [delivery]    $$   \n",
       "\n",
       "                                            location         phone  \\\n",
       "0  {'address1': '1728 Thames St', 'address2': '',...  +14434497726   \n",
       "1  {'address1': '203 N Paca St', 'address2': '', ...  +14107274898   \n",
       "2  {'address1': '750 E Pratt St', 'address2': '',...  +14105285373   \n",
       "\n",
       "    display_phone     distance  \n",
       "0  (443) 449-7726  2090.712792  \n",
       "1  (410) 727-4898  1349.560720  \n",
       "2  (410) 528-5373  1028.736468  "
      ]
     },
     "metadata": {},
     "output_type": "display_data"
    },
    {
     "data": {
      "text/html": [
       "<div>\n",
       "<style scoped>\n",
       "    .dataframe tbody tr th:only-of-type {\n",
       "        vertical-align: middle;\n",
       "    }\n",
       "\n",
       "    .dataframe tbody tr th {\n",
       "        vertical-align: top;\n",
       "    }\n",
       "\n",
       "    .dataframe thead th {\n",
       "        text-align: right;\n",
       "    }\n",
       "</style>\n",
       "<table border=\"1\" class=\"dataframe\">\n",
       "  <thead>\n",
       "    <tr style=\"text-align: right;\">\n",
       "      <th></th>\n",
       "      <th>id</th>\n",
       "      <th>alias</th>\n",
       "      <th>name</th>\n",
       "      <th>image_url</th>\n",
       "      <th>is_closed</th>\n",
       "      <th>url</th>\n",
       "      <th>review_count</th>\n",
       "      <th>categories</th>\n",
       "      <th>rating</th>\n",
       "      <th>coordinates</th>\n",
       "      <th>transactions</th>\n",
       "      <th>price</th>\n",
       "      <th>location</th>\n",
       "      <th>phone</th>\n",
       "      <th>display_phone</th>\n",
       "      <th>distance</th>\n",
       "    </tr>\n",
       "  </thead>\n",
       "  <tbody>\n",
       "    <tr>\n",
       "      <th>37</th>\n",
       "      <td>Wg0X79U295H69BC3Fnqd-w</td>\n",
       "      <td>the-corner-bistro-and-wine-bar-baltimore</td>\n",
       "      <td>The Corner Bistro and Wine Bar</td>\n",
       "      <td>https://s3-media1.fl.yelpcdn.com/bphoto/D8SRbE...</td>\n",
       "      <td>False</td>\n",
       "      <td>https://www.yelp.com/biz/the-corner-bistro-and...</td>\n",
       "      <td>258</td>\n",
       "      <td>[{'alias': 'newamerican', 'title': 'American (...</td>\n",
       "      <td>4.5</td>\n",
       "      <td>{'latitude': 39.285576, 'longitude': -76.625679}</td>\n",
       "      <td>[delivery, pickup]</td>\n",
       "      <td>$$</td>\n",
       "      <td>{'address1': '213 Penn St', 'address2': '', 'a...</td>\n",
       "      <td>+14107271155</td>\n",
       "      <td>(410) 727-1155</td>\n",
       "      <td>1953.815128</td>\n",
       "    </tr>\n",
       "    <tr>\n",
       "      <th>38</th>\n",
       "      <td>GOvVNYe2DwjGzwdVJIKw1Q</td>\n",
       "      <td>wicked-sisters-tavern-baltimore</td>\n",
       "      <td>Wicked Sisters Tavern</td>\n",
       "      <td>https://s3-media2.fl.yelpcdn.com/bphoto/XdSbMU...</td>\n",
       "      <td>False</td>\n",
       "      <td>https://www.yelp.com/biz/wicked-sisters-tavern...</td>\n",
       "      <td>600</td>\n",
       "      <td>[{'alias': 'tradamerican', 'title': 'American ...</td>\n",
       "      <td>4.0</td>\n",
       "      <td>{'latitude': 39.3350187678809, 'longitude': -7...</td>\n",
       "      <td>[delivery, pickup]</td>\n",
       "      <td>$$</td>\n",
       "      <td>{'address1': '3845 Falls Rd', 'address2': '', ...</td>\n",
       "      <td>+14108780884</td>\n",
       "      <td>(410) 878-0884</td>\n",
       "      <td>4974.443762</td>\n",
       "    </tr>\n",
       "    <tr>\n",
       "      <th>39</th>\n",
       "      <td>g428REEbAhb4Ngumk5bJ6g</td>\n",
       "      <td>lexington-market-baltimore</td>\n",
       "      <td>Lexington Market</td>\n",
       "      <td>https://s3-media1.fl.yelpcdn.com/bphoto/zQmaY3...</td>\n",
       "      <td>False</td>\n",
       "      <td>https://www.yelp.com/biz/lexington-market-balt...</td>\n",
       "      <td>359</td>\n",
       "      <td>[{'alias': 'grocery', 'title': 'Grocery'}, {'a...</td>\n",
       "      <td>3.5</td>\n",
       "      <td>{'latitude': 39.29198, 'longitude': -76.622342}</td>\n",
       "      <td>[]</td>\n",
       "      <td>$</td>\n",
       "      <td>{'address1': '400 W Lexington St', 'address2':...</td>\n",
       "      <td>+14106856169</td>\n",
       "      <td>(410) 685-6169</td>\n",
       "      <td>1346.447303</td>\n",
       "    </tr>\n",
       "  </tbody>\n",
       "</table>\n",
       "</div>"
      ],
      "text/plain": [
       "                        id                                     alias  \\\n",
       "37  Wg0X79U295H69BC3Fnqd-w  the-corner-bistro-and-wine-bar-baltimore   \n",
       "38  GOvVNYe2DwjGzwdVJIKw1Q           wicked-sisters-tavern-baltimore   \n",
       "39  g428REEbAhb4Ngumk5bJ6g                lexington-market-baltimore   \n",
       "\n",
       "                              name  \\\n",
       "37  The Corner Bistro and Wine Bar   \n",
       "38           Wicked Sisters Tavern   \n",
       "39                Lexington Market   \n",
       "\n",
       "                                            image_url  is_closed  \\\n",
       "37  https://s3-media1.fl.yelpcdn.com/bphoto/D8SRbE...      False   \n",
       "38  https://s3-media2.fl.yelpcdn.com/bphoto/XdSbMU...      False   \n",
       "39  https://s3-media1.fl.yelpcdn.com/bphoto/zQmaY3...      False   \n",
       "\n",
       "                                                  url  review_count  \\\n",
       "37  https://www.yelp.com/biz/the-corner-bistro-and...           258   \n",
       "38  https://www.yelp.com/biz/wicked-sisters-tavern...           600   \n",
       "39  https://www.yelp.com/biz/lexington-market-balt...           359   \n",
       "\n",
       "                                           categories  rating  \\\n",
       "37  [{'alias': 'newamerican', 'title': 'American (...     4.5   \n",
       "38  [{'alias': 'tradamerican', 'title': 'American ...     4.0   \n",
       "39  [{'alias': 'grocery', 'title': 'Grocery'}, {'a...     3.5   \n",
       "\n",
       "                                          coordinates        transactions  \\\n",
       "37   {'latitude': 39.285576, 'longitude': -76.625679}  [delivery, pickup]   \n",
       "38  {'latitude': 39.3350187678809, 'longitude': -7...  [delivery, pickup]   \n",
       "39    {'latitude': 39.29198, 'longitude': -76.622342}                  []   \n",
       "\n",
       "   price                                           location         phone  \\\n",
       "37    $$  {'address1': '213 Penn St', 'address2': '', 'a...  +14107271155   \n",
       "38    $$  {'address1': '3845 Falls Rd', 'address2': '', ...  +14108780884   \n",
       "39     $  {'address1': '400 W Lexington St', 'address2':...  +14106856169   \n",
       "\n",
       "     display_phone     distance  \n",
       "37  (410) 727-1155  1953.815128  \n",
       "38  (410) 878-0884  4974.443762  \n",
       "39  (410) 685-6169  1346.447303  "
      ]
     },
     "metadata": {},
     "output_type": "display_data"
    }
   ],
   "source": [
    "## concatenate the previous results and new results. \n",
    "businesses = pd.concat([biz, biz20],\n",
    "                      ignore_index=True)\n",
    "display(businesses.head(3), businesses.tail(3))"
   ]
  },
  {
   "cell_type": "markdown",
   "id": "1bc9e200",
   "metadata": {},
   "source": [
    "# YELP Burger Search"
   ]
  },
  {
   "cell_type": "code",
   "execution_count": 110,
   "id": "84f58f7e",
   "metadata": {},
   "outputs": [
    {
     "name": "stdout",
     "output_type": "stream",
     "text": [
      "<class 'dict'>\n"
     ]
    },
    {
     "data": {
      "text/plain": [
       "dict_keys(['businesses', 'total', 'region'])"
      ]
     },
     "execution_count": 110,
     "metadata": {},
     "output_type": "execute_result"
    }
   ],
   "source": [
    "#checking dic and keys\n",
    "burger_0 = yelp_api.search_query(location='Seattle, WA', term='Burger')\n",
    "\n",
    "print(type(burger_0))\n",
    "\n",
    "burger_0.keys()"
   ]
  },
  {
   "cell_type": "code",
   "execution_count": 111,
   "id": "7ef220ee",
   "metadata": {},
   "outputs": [
    {
     "data": {
      "text/html": [
       "<div>\n",
       "<style scoped>\n",
       "    .dataframe tbody tr th:only-of-type {\n",
       "        vertical-align: middle;\n",
       "    }\n",
       "\n",
       "    .dataframe tbody tr th {\n",
       "        vertical-align: top;\n",
       "    }\n",
       "\n",
       "    .dataframe thead th {\n",
       "        text-align: right;\n",
       "    }\n",
       "</style>\n",
       "<table border=\"1\" class=\"dataframe\">\n",
       "  <thead>\n",
       "    <tr style=\"text-align: right;\">\n",
       "      <th></th>\n",
       "      <th>id</th>\n",
       "      <th>alias</th>\n",
       "      <th>name</th>\n",
       "      <th>image_url</th>\n",
       "      <th>is_closed</th>\n",
       "      <th>url</th>\n",
       "      <th>review_count</th>\n",
       "      <th>categories</th>\n",
       "      <th>rating</th>\n",
       "      <th>coordinates</th>\n",
       "      <th>transactions</th>\n",
       "      <th>price</th>\n",
       "      <th>location</th>\n",
       "      <th>phone</th>\n",
       "      <th>display_phone</th>\n",
       "      <th>distance</th>\n",
       "    </tr>\n",
       "  </thead>\n",
       "  <tbody>\n",
       "    <tr>\n",
       "      <th>0</th>\n",
       "      <td>smOVPL87Q0XHACrVMPa8qw</td>\n",
       "      <td>8oz-burger-and-co-seattle</td>\n",
       "      <td>8oz Burger &amp; Co</td>\n",
       "      <td>https://s3-media2.fl.yelpcdn.com/bphoto/7UsZhl...</td>\n",
       "      <td>False</td>\n",
       "      <td>https://www.yelp.com/biz/8oz-burger-and-co-sea...</td>\n",
       "      <td>1723</td>\n",
       "      <td>[{'alias': 'burgers', 'title': 'Burgers'}, {'a...</td>\n",
       "      <td>4.0</td>\n",
       "      <td>{'latitude': 47.61320990365378, 'longitude': -...</td>\n",
       "      <td>[delivery, pickup]</td>\n",
       "      <td>$$</td>\n",
       "      <td>{'address1': '1401 Broadway', 'address2': None...</td>\n",
       "      <td>+12064665989</td>\n",
       "      <td>(206) 466-5989</td>\n",
       "      <td>1737.156220</td>\n",
       "    </tr>\n",
       "    <tr>\n",
       "      <th>1</th>\n",
       "      <td>xcZZ0Gm81bl8xQfvws231A</td>\n",
       "      <td>uneeda-burger-seattle</td>\n",
       "      <td>Uneeda Burger</td>\n",
       "      <td>https://s3-media3.fl.yelpcdn.com/bphoto/u0Cbd9...</td>\n",
       "      <td>False</td>\n",
       "      <td>https://www.yelp.com/biz/uneeda-burger-seattle...</td>\n",
       "      <td>1348</td>\n",
       "      <td>[{'alias': 'burgers', 'title': 'Burgers'}, {'a...</td>\n",
       "      <td>4.0</td>\n",
       "      <td>{'latitude': 47.65952, 'longitude': -122.34976}</td>\n",
       "      <td>[delivery, pickup]</td>\n",
       "      <td>$$</td>\n",
       "      <td>{'address1': '4302 Fremont Ave N', 'address2':...</td>\n",
       "      <td>+12065472600</td>\n",
       "      <td>(206) 547-2600</td>\n",
       "      <td>3930.479583</td>\n",
       "    </tr>\n",
       "    <tr>\n",
       "      <th>2</th>\n",
       "      <td>9fC3l9DdmPx3hEydsQ0wQw</td>\n",
       "      <td>burbs-burgers-ballard-seattle</td>\n",
       "      <td>Burb's Burgers Ballard</td>\n",
       "      <td>https://s3-media3.fl.yelpcdn.com/bphoto/6IQsqr...</td>\n",
       "      <td>False</td>\n",
       "      <td>https://www.yelp.com/biz/burbs-burgers-ballard...</td>\n",
       "      <td>12</td>\n",
       "      <td>[{'alias': 'burgers', 'title': 'Burgers'}]</td>\n",
       "      <td>5.0</td>\n",
       "      <td>{'latitude': 47.66591, 'longitude': -122.37389}</td>\n",
       "      <td>[]</td>\n",
       "      <td>NaN</td>\n",
       "      <td>{'address1': '5101 14th Ave NW', 'address2': '...</td>\n",
       "      <td>+12064203015</td>\n",
       "      <td>(206) 420-3015</td>\n",
       "      <td>5351.246250</td>\n",
       "    </tr>\n",
       "  </tbody>\n",
       "</table>\n",
       "</div>"
      ],
      "text/plain": [
       "                       id                          alias  \\\n",
       "0  smOVPL87Q0XHACrVMPa8qw      8oz-burger-and-co-seattle   \n",
       "1  xcZZ0Gm81bl8xQfvws231A          uneeda-burger-seattle   \n",
       "2  9fC3l9DdmPx3hEydsQ0wQw  burbs-burgers-ballard-seattle   \n",
       "\n",
       "                     name                                          image_url  \\\n",
       "0         8oz Burger & Co  https://s3-media2.fl.yelpcdn.com/bphoto/7UsZhl...   \n",
       "1           Uneeda Burger  https://s3-media3.fl.yelpcdn.com/bphoto/u0Cbd9...   \n",
       "2  Burb's Burgers Ballard  https://s3-media3.fl.yelpcdn.com/bphoto/6IQsqr...   \n",
       "\n",
       "   is_closed                                                url  review_count  \\\n",
       "0      False  https://www.yelp.com/biz/8oz-burger-and-co-sea...          1723   \n",
       "1      False  https://www.yelp.com/biz/uneeda-burger-seattle...          1348   \n",
       "2      False  https://www.yelp.com/biz/burbs-burgers-ballard...            12   \n",
       "\n",
       "                                          categories  rating  \\\n",
       "0  [{'alias': 'burgers', 'title': 'Burgers'}, {'a...     4.0   \n",
       "1  [{'alias': 'burgers', 'title': 'Burgers'}, {'a...     4.0   \n",
       "2         [{'alias': 'burgers', 'title': 'Burgers'}]     5.0   \n",
       "\n",
       "                                         coordinates        transactions  \\\n",
       "0  {'latitude': 47.61320990365378, 'longitude': -...  [delivery, pickup]   \n",
       "1    {'latitude': 47.65952, 'longitude': -122.34976}  [delivery, pickup]   \n",
       "2    {'latitude': 47.66591, 'longitude': -122.37389}                  []   \n",
       "\n",
       "  price                                           location         phone  \\\n",
       "0    $$  {'address1': '1401 Broadway', 'address2': None...  +12064665989   \n",
       "1    $$  {'address1': '4302 Fremont Ave N', 'address2':...  +12065472600   \n",
       "2   NaN  {'address1': '5101 14th Ave NW', 'address2': '...  +12064203015   \n",
       "\n",
       "    display_phone     distance  \n",
       "0  (206) 466-5989  1737.156220  \n",
       "1  (206) 547-2600  3930.479583  \n",
       "2  (206) 420-3015  5351.246250  "
      ]
     },
     "execution_count": 111,
     "metadata": {},
     "output_type": "execute_result"
    }
   ],
   "source": [
    "#df look at data\n",
    "burger0 = pd.DataFrame(burger_0['businesses'])\n",
    "burger0.head(3)"
   ]
  },
  {
   "cell_type": "code",
   "execution_count": 112,
   "id": "d80610a6",
   "metadata": {},
   "outputs": [
    {
     "data": {
      "text/plain": [
       "2300"
      ]
     },
     "execution_count": 112,
     "metadata": {},
     "output_type": "execute_result"
    }
   ],
   "source": [
    "#looking at total of result\n",
    "burger_0['total']"
   ]
  },
  {
   "cell_type": "code",
   "execution_count": 113,
   "id": "21ebae41",
   "metadata": {},
   "outputs": [],
   "source": [
    "#need to make 2300 into 40 to fit 2 pages\n",
    "#checking dic and keys\n",
    "burger_1 = yelp_api.search_query(location='Seattle, WA', term='Burger', offset= 20)"
   ]
  },
  {
   "cell_type": "code",
   "execution_count": 114,
   "id": "f8c5253f",
   "metadata": {},
   "outputs": [
    {
     "data": {
      "text/html": [
       "<div>\n",
       "<style scoped>\n",
       "    .dataframe tbody tr th:only-of-type {\n",
       "        vertical-align: middle;\n",
       "    }\n",
       "\n",
       "    .dataframe tbody tr th {\n",
       "        vertical-align: top;\n",
       "    }\n",
       "\n",
       "    .dataframe thead th {\n",
       "        text-align: right;\n",
       "    }\n",
       "</style>\n",
       "<table border=\"1\" class=\"dataframe\">\n",
       "  <thead>\n",
       "    <tr style=\"text-align: right;\">\n",
       "      <th></th>\n",
       "      <th>id</th>\n",
       "      <th>alias</th>\n",
       "      <th>name</th>\n",
       "      <th>image_url</th>\n",
       "      <th>is_closed</th>\n",
       "      <th>url</th>\n",
       "      <th>review_count</th>\n",
       "      <th>categories</th>\n",
       "      <th>rating</th>\n",
       "      <th>coordinates</th>\n",
       "      <th>transactions</th>\n",
       "      <th>price</th>\n",
       "      <th>location</th>\n",
       "      <th>phone</th>\n",
       "      <th>display_phone</th>\n",
       "      <th>distance</th>\n",
       "    </tr>\n",
       "  </thead>\n",
       "  <tbody>\n",
       "    <tr>\n",
       "      <th>0</th>\n",
       "      <td>7yyDBhwcpSvlCSjsIclnmw</td>\n",
       "      <td>feed-co-burgers-seattle-3</td>\n",
       "      <td>Feed Co. Burgers</td>\n",
       "      <td>https://s3-media4.fl.yelpcdn.com/bphoto/LaWDJ4...</td>\n",
       "      <td>False</td>\n",
       "      <td>https://www.yelp.com/biz/feed-co-burgers-seatt...</td>\n",
       "      <td>220</td>\n",
       "      <td>[{'alias': 'burgers', 'title': 'Burgers'}]</td>\n",
       "      <td>4.0</td>\n",
       "      <td>{'latitude': 47.6127807950165, 'longitude': -1...</td>\n",
       "      <td>[delivery, pickup]</td>\n",
       "      <td>$$</td>\n",
       "      <td>{'address1': '1190 24th Ave', 'address2': '', ...</td>\n",
       "      <td>+12067266000</td>\n",
       "      <td>(206) 726-6000</td>\n",
       "      <td>2927.984173</td>\n",
       "    </tr>\n",
       "    <tr>\n",
       "      <th>1</th>\n",
       "      <td>x8BFKHu7ajvXLOA0_33bbg</td>\n",
       "      <td>old-stove-brewing-seattle-3</td>\n",
       "      <td>Old Stove Brewing</td>\n",
       "      <td>https://s3-media3.fl.yelpcdn.com/bphoto/d-IJL6...</td>\n",
       "      <td>False</td>\n",
       "      <td>https://www.yelp.com/biz/old-stove-brewing-sea...</td>\n",
       "      <td>846</td>\n",
       "      <td>[{'alias': 'brewpubs', 'title': 'Brewpubs'}, {...</td>\n",
       "      <td>4.5</td>\n",
       "      <td>{'latitude': 47.60947174117716, 'longitude': -...</td>\n",
       "      <td>[delivery, pickup]</td>\n",
       "      <td>$$</td>\n",
       "      <td>{'address1': '1901 Western Ave', 'address2': '...</td>\n",
       "      <td>+12066026120</td>\n",
       "      <td>(206) 602-6120</td>\n",
       "      <td>1850.289783</td>\n",
       "    </tr>\n",
       "    <tr>\n",
       "      <th>2</th>\n",
       "      <td>VSWKoV1zTtjyEXAFJwdeHA</td>\n",
       "      <td>lil-woodys-seattle</td>\n",
       "      <td>Li'l Woody's</td>\n",
       "      <td>https://s3-media4.fl.yelpcdn.com/bphoto/yOo7a3...</td>\n",
       "      <td>False</td>\n",
       "      <td>https://www.yelp.com/biz/lil-woodys-seattle?ad...</td>\n",
       "      <td>989</td>\n",
       "      <td>[{'alias': 'burgers', 'title': 'Burgers'}, {'a...</td>\n",
       "      <td>3.5</td>\n",
       "      <td>{'latitude': 47.61495, 'longitude': -122.32818}</td>\n",
       "      <td>[delivery, pickup]</td>\n",
       "      <td>$$</td>\n",
       "      <td>{'address1': '1211 Pine St', 'address2': None,...</td>\n",
       "      <td>+12064574148</td>\n",
       "      <td>(206) 457-4148</td>\n",
       "      <td>1285.986520</td>\n",
       "    </tr>\n",
       "  </tbody>\n",
       "</table>\n",
       "</div>"
      ],
      "text/plain": [
       "                       id                        alias               name  \\\n",
       "0  7yyDBhwcpSvlCSjsIclnmw    feed-co-burgers-seattle-3   Feed Co. Burgers   \n",
       "1  x8BFKHu7ajvXLOA0_33bbg  old-stove-brewing-seattle-3  Old Stove Brewing   \n",
       "2  VSWKoV1zTtjyEXAFJwdeHA           lil-woodys-seattle       Li'l Woody's   \n",
       "\n",
       "                                           image_url  is_closed  \\\n",
       "0  https://s3-media4.fl.yelpcdn.com/bphoto/LaWDJ4...      False   \n",
       "1  https://s3-media3.fl.yelpcdn.com/bphoto/d-IJL6...      False   \n",
       "2  https://s3-media4.fl.yelpcdn.com/bphoto/yOo7a3...      False   \n",
       "\n",
       "                                                 url  review_count  \\\n",
       "0  https://www.yelp.com/biz/feed-co-burgers-seatt...           220   \n",
       "1  https://www.yelp.com/biz/old-stove-brewing-sea...           846   \n",
       "2  https://www.yelp.com/biz/lil-woodys-seattle?ad...           989   \n",
       "\n",
       "                                          categories  rating  \\\n",
       "0         [{'alias': 'burgers', 'title': 'Burgers'}]     4.0   \n",
       "1  [{'alias': 'brewpubs', 'title': 'Brewpubs'}, {...     4.5   \n",
       "2  [{'alias': 'burgers', 'title': 'Burgers'}, {'a...     3.5   \n",
       "\n",
       "                                         coordinates        transactions  \\\n",
       "0  {'latitude': 47.6127807950165, 'longitude': -1...  [delivery, pickup]   \n",
       "1  {'latitude': 47.60947174117716, 'longitude': -...  [delivery, pickup]   \n",
       "2    {'latitude': 47.61495, 'longitude': -122.32818}  [delivery, pickup]   \n",
       "\n",
       "  price                                           location         phone  \\\n",
       "0    $$  {'address1': '1190 24th Ave', 'address2': '', ...  +12067266000   \n",
       "1    $$  {'address1': '1901 Western Ave', 'address2': '...  +12066026120   \n",
       "2    $$  {'address1': '1211 Pine St', 'address2': None,...  +12064574148   \n",
       "\n",
       "    display_phone     distance  \n",
       "0  (206) 726-6000  2927.984173  \n",
       "1  (206) 602-6120  1850.289783  \n",
       "2  (206) 457-4148  1285.986520  "
      ]
     },
     "execution_count": 114,
     "metadata": {},
     "output_type": "execute_result"
    }
   ],
   "source": [
    "burger1 = pd.DataFrame(burger_1['businesses'])\n",
    "burger1.head(3)"
   ]
  },
  {
   "cell_type": "code",
   "execution_count": 115,
   "id": "5d4ad032",
   "metadata": {},
   "outputs": [
    {
     "data": {
      "text/html": [
       "<div>\n",
       "<style scoped>\n",
       "    .dataframe tbody tr th:only-of-type {\n",
       "        vertical-align: middle;\n",
       "    }\n",
       "\n",
       "    .dataframe tbody tr th {\n",
       "        vertical-align: top;\n",
       "    }\n",
       "\n",
       "    .dataframe thead th {\n",
       "        text-align: right;\n",
       "    }\n",
       "</style>\n",
       "<table border=\"1\" class=\"dataframe\">\n",
       "  <thead>\n",
       "    <tr style=\"text-align: right;\">\n",
       "      <th></th>\n",
       "      <th>id</th>\n",
       "      <th>alias</th>\n",
       "      <th>name</th>\n",
       "      <th>image_url</th>\n",
       "      <th>is_closed</th>\n",
       "      <th>url</th>\n",
       "      <th>review_count</th>\n",
       "      <th>categories</th>\n",
       "      <th>rating</th>\n",
       "      <th>coordinates</th>\n",
       "      <th>transactions</th>\n",
       "      <th>price</th>\n",
       "      <th>location</th>\n",
       "      <th>phone</th>\n",
       "      <th>display_phone</th>\n",
       "      <th>distance</th>\n",
       "    </tr>\n",
       "  </thead>\n",
       "  <tbody>\n",
       "    <tr>\n",
       "      <th>0</th>\n",
       "      <td>smOVPL87Q0XHACrVMPa8qw</td>\n",
       "      <td>8oz-burger-and-co-seattle</td>\n",
       "      <td>8oz Burger &amp; Co</td>\n",
       "      <td>https://s3-media2.fl.yelpcdn.com/bphoto/7UsZhl...</td>\n",
       "      <td>False</td>\n",
       "      <td>https://www.yelp.com/biz/8oz-burger-and-co-sea...</td>\n",
       "      <td>1723</td>\n",
       "      <td>[{'alias': 'burgers', 'title': 'Burgers'}, {'a...</td>\n",
       "      <td>4.0</td>\n",
       "      <td>{'latitude': 47.61320990365378, 'longitude': -...</td>\n",
       "      <td>[delivery, pickup]</td>\n",
       "      <td>$$</td>\n",
       "      <td>{'address1': '1401 Broadway', 'address2': None...</td>\n",
       "      <td>+12064665989</td>\n",
       "      <td>(206) 466-5989</td>\n",
       "      <td>1737.156220</td>\n",
       "    </tr>\n",
       "    <tr>\n",
       "      <th>1</th>\n",
       "      <td>xcZZ0Gm81bl8xQfvws231A</td>\n",
       "      <td>uneeda-burger-seattle</td>\n",
       "      <td>Uneeda Burger</td>\n",
       "      <td>https://s3-media3.fl.yelpcdn.com/bphoto/u0Cbd9...</td>\n",
       "      <td>False</td>\n",
       "      <td>https://www.yelp.com/biz/uneeda-burger-seattle...</td>\n",
       "      <td>1348</td>\n",
       "      <td>[{'alias': 'burgers', 'title': 'Burgers'}, {'a...</td>\n",
       "      <td>4.0</td>\n",
       "      <td>{'latitude': 47.65952, 'longitude': -122.34976}</td>\n",
       "      <td>[delivery, pickup]</td>\n",
       "      <td>$$</td>\n",
       "      <td>{'address1': '4302 Fremont Ave N', 'address2':...</td>\n",
       "      <td>+12065472600</td>\n",
       "      <td>(206) 547-2600</td>\n",
       "      <td>3930.479583</td>\n",
       "    </tr>\n",
       "    <tr>\n",
       "      <th>2</th>\n",
       "      <td>9fC3l9DdmPx3hEydsQ0wQw</td>\n",
       "      <td>burbs-burgers-ballard-seattle</td>\n",
       "      <td>Burb's Burgers Ballard</td>\n",
       "      <td>https://s3-media3.fl.yelpcdn.com/bphoto/6IQsqr...</td>\n",
       "      <td>False</td>\n",
       "      <td>https://www.yelp.com/biz/burbs-burgers-ballard...</td>\n",
       "      <td>12</td>\n",
       "      <td>[{'alias': 'burgers', 'title': 'Burgers'}]</td>\n",
       "      <td>5.0</td>\n",
       "      <td>{'latitude': 47.66591, 'longitude': -122.37389}</td>\n",
       "      <td>[]</td>\n",
       "      <td>NaN</td>\n",
       "      <td>{'address1': '5101 14th Ave NW', 'address2': '...</td>\n",
       "      <td>+12064203015</td>\n",
       "      <td>(206) 420-3015</td>\n",
       "      <td>5351.246250</td>\n",
       "    </tr>\n",
       "  </tbody>\n",
       "</table>\n",
       "</div>"
      ],
      "text/plain": [
       "                       id                          alias  \\\n",
       "0  smOVPL87Q0XHACrVMPa8qw      8oz-burger-and-co-seattle   \n",
       "1  xcZZ0Gm81bl8xQfvws231A          uneeda-burger-seattle   \n",
       "2  9fC3l9DdmPx3hEydsQ0wQw  burbs-burgers-ballard-seattle   \n",
       "\n",
       "                     name                                          image_url  \\\n",
       "0         8oz Burger & Co  https://s3-media2.fl.yelpcdn.com/bphoto/7UsZhl...   \n",
       "1           Uneeda Burger  https://s3-media3.fl.yelpcdn.com/bphoto/u0Cbd9...   \n",
       "2  Burb's Burgers Ballard  https://s3-media3.fl.yelpcdn.com/bphoto/6IQsqr...   \n",
       "\n",
       "   is_closed                                                url  review_count  \\\n",
       "0      False  https://www.yelp.com/biz/8oz-burger-and-co-sea...          1723   \n",
       "1      False  https://www.yelp.com/biz/uneeda-burger-seattle...          1348   \n",
       "2      False  https://www.yelp.com/biz/burbs-burgers-ballard...            12   \n",
       "\n",
       "                                          categories  rating  \\\n",
       "0  [{'alias': 'burgers', 'title': 'Burgers'}, {'a...     4.0   \n",
       "1  [{'alias': 'burgers', 'title': 'Burgers'}, {'a...     4.0   \n",
       "2         [{'alias': 'burgers', 'title': 'Burgers'}]     5.0   \n",
       "\n",
       "                                         coordinates        transactions  \\\n",
       "0  {'latitude': 47.61320990365378, 'longitude': -...  [delivery, pickup]   \n",
       "1    {'latitude': 47.65952, 'longitude': -122.34976}  [delivery, pickup]   \n",
       "2    {'latitude': 47.66591, 'longitude': -122.37389}                  []   \n",
       "\n",
       "  price                                           location         phone  \\\n",
       "0    $$  {'address1': '1401 Broadway', 'address2': None...  +12064665989   \n",
       "1    $$  {'address1': '4302 Fremont Ave N', 'address2':...  +12065472600   \n",
       "2   NaN  {'address1': '5101 14th Ave NW', 'address2': '...  +12064203015   \n",
       "\n",
       "    display_phone     distance  \n",
       "0  (206) 466-5989  1737.156220  \n",
       "1  (206) 547-2600  3930.479583  \n",
       "2  (206) 420-3015  5351.246250  "
      ]
     },
     "metadata": {},
     "output_type": "display_data"
    },
    {
     "data": {
      "text/html": [
       "<div>\n",
       "<style scoped>\n",
       "    .dataframe tbody tr th:only-of-type {\n",
       "        vertical-align: middle;\n",
       "    }\n",
       "\n",
       "    .dataframe tbody tr th {\n",
       "        vertical-align: top;\n",
       "    }\n",
       "\n",
       "    .dataframe thead th {\n",
       "        text-align: right;\n",
       "    }\n",
       "</style>\n",
       "<table border=\"1\" class=\"dataframe\">\n",
       "  <thead>\n",
       "    <tr style=\"text-align: right;\">\n",
       "      <th></th>\n",
       "      <th>id</th>\n",
       "      <th>alias</th>\n",
       "      <th>name</th>\n",
       "      <th>image_url</th>\n",
       "      <th>is_closed</th>\n",
       "      <th>url</th>\n",
       "      <th>review_count</th>\n",
       "      <th>categories</th>\n",
       "      <th>rating</th>\n",
       "      <th>coordinates</th>\n",
       "      <th>transactions</th>\n",
       "      <th>price</th>\n",
       "      <th>location</th>\n",
       "      <th>phone</th>\n",
       "      <th>display_phone</th>\n",
       "      <th>distance</th>\n",
       "    </tr>\n",
       "  </thead>\n",
       "  <tbody>\n",
       "    <tr>\n",
       "      <th>37</th>\n",
       "      <td>ps9ZlLoLYTfK87IjW9REfg</td>\n",
       "      <td>radiator-whiskey-seattle</td>\n",
       "      <td>Radiator Whiskey</td>\n",
       "      <td>https://s3-media2.fl.yelpcdn.com/bphoto/2Z38xi...</td>\n",
       "      <td>False</td>\n",
       "      <td>https://www.yelp.com/biz/radiator-whiskey-seat...</td>\n",
       "      <td>1340</td>\n",
       "      <td>[{'alias': 'newamerican', 'title': 'American (...</td>\n",
       "      <td>4.5</td>\n",
       "      <td>{'latitude': 47.608949, 'longitude': -122.340599}</td>\n",
       "      <td>[delivery]</td>\n",
       "      <td>$$</td>\n",
       "      <td>{'address1': '94 Pike St', 'address2': 'Ste 30...</td>\n",
       "      <td>+12064674268</td>\n",
       "      <td>(206) 467-4268</td>\n",
       "      <td>1870.681705</td>\n",
       "    </tr>\n",
       "    <tr>\n",
       "      <th>38</th>\n",
       "      <td>Mq9wEGl6h2dMBsCZ0AGxYA</td>\n",
       "      <td>burgermaster-seattle</td>\n",
       "      <td>Burgermaster</td>\n",
       "      <td>https://s3-media3.fl.yelpcdn.com/bphoto/_gLNfP...</td>\n",
       "      <td>False</td>\n",
       "      <td>https://www.yelp.com/biz/burgermaster-seattle?...</td>\n",
       "      <td>281</td>\n",
       "      <td>[{'alias': 'burgers', 'title': 'Burgers'}]</td>\n",
       "      <td>4.0</td>\n",
       "      <td>{'latitude': 47.7010999, 'longitude': -122.34426}</td>\n",
       "      <td>[delivery]</td>\n",
       "      <td>$</td>\n",
       "      <td>{'address1': '9820 Aurora Ave N', 'address2': ...</td>\n",
       "      <td>+12065222044</td>\n",
       "      <td>(206) 522-2044</td>\n",
       "      <td>8440.427859</td>\n",
       "    </tr>\n",
       "    <tr>\n",
       "      <th>39</th>\n",
       "      <td>8AFCyqMMXdxJRMaxCEe8RQ</td>\n",
       "      <td>scooters-burgers-seattle</td>\n",
       "      <td>Scooter's Burgers</td>\n",
       "      <td>https://s3-media4.fl.yelpcdn.com/bphoto/kiVX_p...</td>\n",
       "      <td>False</td>\n",
       "      <td>https://www.yelp.com/biz/scooters-burgers-seat...</td>\n",
       "      <td>280</td>\n",
       "      <td>[{'alias': 'burgers', 'title': 'Burgers'}]</td>\n",
       "      <td>4.0</td>\n",
       "      <td>{'latitude': 47.67104, 'longitude': -122.38731}</td>\n",
       "      <td>[delivery, pickup]</td>\n",
       "      <td>$</td>\n",
       "      <td>{'address1': '5802 24th Ave NW', 'address2': '...</td>\n",
       "      <td>+12067822966</td>\n",
       "      <td>(206) 782-2966</td>\n",
       "      <td>6386.393941</td>\n",
       "    </tr>\n",
       "  </tbody>\n",
       "</table>\n",
       "</div>"
      ],
      "text/plain": [
       "                        id                     alias               name  \\\n",
       "37  ps9ZlLoLYTfK87IjW9REfg  radiator-whiskey-seattle   Radiator Whiskey   \n",
       "38  Mq9wEGl6h2dMBsCZ0AGxYA      burgermaster-seattle       Burgermaster   \n",
       "39  8AFCyqMMXdxJRMaxCEe8RQ  scooters-burgers-seattle  Scooter's Burgers   \n",
       "\n",
       "                                            image_url  is_closed  \\\n",
       "37  https://s3-media2.fl.yelpcdn.com/bphoto/2Z38xi...      False   \n",
       "38  https://s3-media3.fl.yelpcdn.com/bphoto/_gLNfP...      False   \n",
       "39  https://s3-media4.fl.yelpcdn.com/bphoto/kiVX_p...      False   \n",
       "\n",
       "                                                  url  review_count  \\\n",
       "37  https://www.yelp.com/biz/radiator-whiskey-seat...          1340   \n",
       "38  https://www.yelp.com/biz/burgermaster-seattle?...           281   \n",
       "39  https://www.yelp.com/biz/scooters-burgers-seat...           280   \n",
       "\n",
       "                                           categories  rating  \\\n",
       "37  [{'alias': 'newamerican', 'title': 'American (...     4.5   \n",
       "38         [{'alias': 'burgers', 'title': 'Burgers'}]     4.0   \n",
       "39         [{'alias': 'burgers', 'title': 'Burgers'}]     4.0   \n",
       "\n",
       "                                          coordinates        transactions  \\\n",
       "37  {'latitude': 47.608949, 'longitude': -122.340599}          [delivery]   \n",
       "38  {'latitude': 47.7010999, 'longitude': -122.34426}          [delivery]   \n",
       "39    {'latitude': 47.67104, 'longitude': -122.38731}  [delivery, pickup]   \n",
       "\n",
       "   price                                           location         phone  \\\n",
       "37    $$  {'address1': '94 Pike St', 'address2': 'Ste 30...  +12064674268   \n",
       "38     $  {'address1': '9820 Aurora Ave N', 'address2': ...  +12065222044   \n",
       "39     $  {'address1': '5802 24th Ave NW', 'address2': '...  +12067822966   \n",
       "\n",
       "     display_phone     distance  \n",
       "37  (206) 467-4268  1870.681705  \n",
       "38  (206) 522-2044  8440.427859  \n",
       "39  (206) 782-2966  6386.393941  "
      ]
     },
     "metadata": {},
     "output_type": "display_data"
    }
   ],
   "source": [
    "#Displaying 2 pages and 40 entries of result\n",
    "all_burgers = pd.concat([burger0, burger1], ignore_index=True)\n",
    "\n",
    "display(all_burgers.head(3), all_burgers.tail(3))"
   ]
  },
  {
   "cell_type": "code",
   "execution_count": 116,
   "id": "26cc7851",
   "metadata": {},
   "outputs": [
    {
     "data": {
      "text/plain": [
       "'[{\"id\":\"smOVPL87Q0XHACrVMPa8qw\",\"alias\":\"8oz-burger-and-co-seattle\",\"name\":\"8oz Burger & Co\",\"image_url\":\"https:\\\\/\\\\/s3-media2.fl.yelpcdn.com\\\\/bphoto\\\\/7UsZhlZGyhG7OalId1MLtg\\\\/o.jpg\",\"is_closed\":false,\"url\":\"https:\\\\/\\\\/www.yelp.com\\\\/biz\\\\/8oz-burger-and-co-seattle?adjust_creative=lgcF84OQ4e56GcDauHlzAg&utm_campaign=yelp_api_v3&utm_medium=api_v3_business_search&utm_source=lgcF84OQ4e56GcDauHlzAg\",\"review_count\":1723,\"categories\":[{\"alias\":\"burgers\",\"title\":\"Burgers\"},{\"alias\":\"bars\",\"title\":\"Bars\"},{\"alias\":\"icecream\",\"title\":\"Ice Cream & Frozen Yogurt\"}],\"rating\":4.0,\"coordinates\":{\"latitude\":47.6132099037,\"longitude\":-122.3210500036},\"transactions\":[\"delivery\",\"pickup\"],\"price\":\"$$\",\"location\":{\"address1\":\"1401 Broadway\",\"address2\":null,\"address3\":\"\",\"city\":\"Seattle\",\"zip_code\":\"98122\",\"country\":\"US\",\"state\":\"WA\",\"display_address\":[\"1401 Broadway\",\"Seattle, WA 98122\"]},\"phone\":\"+12064665989\",\"display_phone\":\"(206) 466-5989\",\"distance\":1737.1562200268},{\"id\":\"xcZZ0Gm81bl8xQfvws231A\",\"alias\":\"uneeda-burger-seattle\",\"name\":\"Uneeda Burger\",\"image_url\":\"https:\\\\/\\\\/s3-media3.fl.yelpcdn.com\\\\/bphoto\\\\/u0Cbd9ccI5TcZXDBhEVAwQ\\\\/o.jpg\",\"is_closed\":false,\"url\":\"https:\\\\/\\\\/www.yelp.com\\\\/biz\\\\/uneeda-burger-seattle?adjust_creative=lgcF84OQ4e56GcDauHlzAg&utm_campaign=yelp_api_v3&utm_medium=api_v3_business_search&utm_source=lgcF84OQ4e56GcDauHlzAg\",\"review_count\":1348,\"categories\":[{\"alias\":\"burgers\",\"title\":\"Burgers\"},{\"alias\":\"sandwiches\",\"title\":\"Sandwiches\"}],\"rating\":4.0,\"coordinates\":{\"latitude\":47.65952,\"longitude\":-122.34976},\"transactions\":[\"delivery\",\"pickup\"],\"price\":\"$$\",\"location\":{\"address1\":\"4302 Fremont Ave N\",\"address2\":\"\",\"address3\":\"\",\"city\":\"Seattle\",\"zip_code\":\"98103\",\"country\":\"US\",\"state\":\"WA\",\"display_address\":[\"4302 Fremont Ave N\",\"Seattle, WA 98103\"]},\"phone\":\"+12065472600\",\"display_phone\":\"(206) 547-2600\",\"distance\":3930.4795829548},{\"id\":\"9fC3l9DdmPx3hEydsQ0wQw\",\"alias\":\"burbs-burgers-ballard-seattle\",\"name\":\"Burb\\'s Burgers Ballard\",\"image_url\":\"https:\\\\/\\\\/s3-media3.fl.yelpcdn.com\\\\/bphoto\\\\/6IQsqrNVNut6pBHusrjZsw\\\\/o.jpg\",\"is_closed\":false,\"url\":\"https:\\\\/\\\\/www.yelp.com\\\\/biz\\\\/burbs-burgers-ballard-seattle?adjust_creative=lgcF84OQ4e56GcDauHlzAg&utm_campaign=yelp_api_v3&utm_medium=api_v3_business_search&utm_source=lgcF84OQ4e56GcDauHlzAg\",\"review_count\":12,\"categories\":[{\"alias\":\"burgers\",\"title\":\"Burgers\"}],\"rating\":5.0,\"coordinates\":{\"latitude\":47.66591,\"longitude\":-122.37389},\"transactions\":[],\"price\":null,\"location\":{\"address1\":\"5101 14th Ave NW\",\"address2\":\"Ste 101\",\"address3\":\"\",\"city\":\"Seattle\",\"zip_code\":\"98107\",\"country\":\"US\",\"state\":\"WA\",\"display_address\":[\"5101 14th Ave NW\",\"Ste 101\",\"Seattle, WA 98107\"]},\"phone\":\"+12064203015\",\"display_phone\":\"(206) 420-3015\",\"distance\":5351.2462501852},{\"id\":\"aSh2Nz2WoQn6m8g256OxcA\",\"alias\":\"red-mill-burgers-seattle\",\"name\":\"Red Mill Burgers\",\"image_url\":\"https:\\\\/\\\\/s3-media2.fl.yelpcdn.com\\\\/bphoto\\\\/kX9ZsnN8k0MNLsWwJqsAzA\\\\/o.jpg\",\"is_closed\":false,\"url\":\"https:\\\\/\\\\/www.yelp.com\\\\/biz\\\\/red-mill-burgers-seattle?adjust_creative=lgcF84OQ4e56GcDauHlzAg&utm_campaign=yelp_api_v3&utm_medium=api_v3_business_search&utm_source=lgcF84OQ4e56GcDauHlzAg\",\"review_count\":1364,\"categories\":[{\"alias\":\"burgers\",\"title\":\"Burgers\"}],\"rating\":4.0,\"coordinates\":{\"latitude\":47.6778470028,\"longitude\":-122.3547152076},\"transactions\":[\"delivery\"],\"price\":\"$$\",\"location\":{\"address1\":\"312 N 67th St\",\"address2\":\"\",\"address3\":\"\",\"city\":\"Seattle\",\"zip_code\":\"98103\",\"country\":\"US\",\"state\":\"WA\",\"display_address\":[\"312 N 67th St\",\"Seattle, WA 98103\"]},\"phone\":\"+12067836362\",\"display_phone\":\"(206) 783-6362\",\"distance\":6004.5817286935},{\"id\":\"rDhExHxELL8lckVl1yWBNA\",\"alias\":\"burbs-burgers-montlake-seattle\",\"name\":\"Burb\\'s Burgers Montlake\",\"image_url\":\"https:\\\\/\\\\/s3-media1.fl.yelpcdn.com\\\\/bphoto\\\\/f-45q0Lmch3HzE9ihLrJrQ\\\\/o.jpg\",\"is_closed\":false,\"url\":\"https:\\\\/\\\\/www.yelp.com\\\\/biz\\\\/burbs-burgers-montlake-seattle?adjust_creative=lgcF84OQ4e56GcDauHlzAg&utm_campaign=yelp_api_v3&utm_medium=api_v3_business_search&utm_source=lgcF84OQ4e56GcDauHlzAg\",\"review_count\":68,\"categories\":[{\"alias\":\"hotdogs\",\"title\":\"Fast Food\"},{\"alias\":\"foodtrucks\",\"title\":\"Food Trucks\"}],\"rating\":4.5,\"coordinates\":{\"latitude\":47.6432215246,\"longitude\":-122.3049076591},\"transactions\":[\"delivery\"],\"price\":\"$\",\"location\":{\"address1\":\"2108 E Roanoke St\",\"address2\":null,\"address3\":\"\",\"city\":\"Seattle\",\"zip_code\":\"98112\",\"country\":\"US\",\"state\":\"WA\",\"display_address\":[\"2108 E Roanoke St\",\"Seattle, WA 98112\"]},\"phone\":\"+12062945930\",\"display_phone\":\"(206) 294-5930\",\"distance\":3043.654830951},{\"id\":\"6AY7UJnznddGbrccPDvuNw\",\"alias\":\"some-random-bar-seattle\",\"name\":\"Some Random Bar\",\"image_url\":\"https:\\\\/\\\\/s3-media4.fl.yelpcdn.com\\\\/bphoto\\\\/WSZEXsjY1pz9t8CcLBjbVg\\\\/o.jpg\",\"is_closed\":false,\"url\":\"https:\\\\/\\\\/www.yelp.com\\\\/biz\\\\/some-random-bar-seattle?adjust_creative=lgcF84OQ4e56GcDauHlzAg&utm_campaign=yelp_api_v3&utm_medium=api_v3_business_search&utm_source=lgcF84OQ4e56GcDauHlzAg\",\"review_count\":1070,\"categories\":[{\"alias\":\"newamerican\",\"title\":\"American (New)\"},{\"alias\":\"cocktailbars\",\"title\":\"Cocktail Bars\"},{\"alias\":\"breakfast_brunch\",\"title\":\"Breakfast & Brunch\"}],\"rating\":4.5,\"coordinates\":{\"latitude\":47.6155010023,\"longitude\":-122.3498022459},\"transactions\":[\"delivery\"],\"price\":\"$$\",\"location\":{\"address1\":\"2604 1st Ave\",\"address2\":null,\"address3\":\"\",\"city\":\"Seattle\",\"zip_code\":\"98121\",\"country\":\"US\",\"state\":\"WA\",\"display_address\":[\"2604 1st Ave\",\"Seattle, WA 98121\"]},\"phone\":\"\",\"display_phone\":\"\",\"distance\":1537.4230735184},{\"id\":\"Lw7NmZ3j-WEye97ywEmkXQ\",\"alias\":\"vons-1000-spirits-seattle-4\",\"name\":\"Von\\'s 1000 Spirits\",\"image_url\":\"https:\\\\/\\\\/s3-media1.fl.yelpcdn.com\\\\/bphoto\\\\/f-LFemqbttbcFHibioh9zw\\\\/o.jpg\",\"is_closed\":false,\"url\":\"https:\\\\/\\\\/www.yelp.com\\\\/biz\\\\/vons-1000-spirits-seattle-4?adjust_creative=lgcF84OQ4e56GcDauHlzAg&utm_campaign=yelp_api_v3&utm_medium=api_v3_business_search&utm_source=lgcF84OQ4e56GcDauHlzAg\",\"review_count\":2308,\"categories\":[{\"alias\":\"newamerican\",\"title\":\"American (New)\"},{\"alias\":\"burgers\",\"title\":\"Burgers\"},{\"alias\":\"pubs\",\"title\":\"Pubs\"}],\"rating\":4.5,\"coordinates\":{\"latitude\":47.606565,\"longitude\":-122.338337},\"transactions\":[\"delivery\",\"pickup\"],\"price\":\"$$\",\"location\":{\"address1\":\"1225 1st Ave\",\"address2\":\"\",\"address3\":\"\",\"city\":\"Seattle\",\"zip_code\":\"98101\",\"country\":\"US\",\"state\":\"WA\",\"display_address\":[\"1225 1st Ave\",\"Seattle, WA 98101\"]},\"phone\":\"+12066218667\",\"display_phone\":\"(206) 621-8667\",\"distance\":2107.1519004703},{\"id\":\"HIQzFuDJ8yDJbA2hymxXgQ\",\"alias\":\"rain-city-burgers-seattle\",\"name\":\"Rain City Burgers\",\"image_url\":\"https:\\\\/\\\\/s3-media2.fl.yelpcdn.com\\\\/bphoto\\\\/ZRC1QYVdTwGvlJcRXveYkA\\\\/o.jpg\",\"is_closed\":false,\"url\":\"https:\\\\/\\\\/www.yelp.com\\\\/biz\\\\/rain-city-burgers-seattle?adjust_creative=lgcF84OQ4e56GcDauHlzAg&utm_campaign=yelp_api_v3&utm_medium=api_v3_business_search&utm_source=lgcF84OQ4e56GcDauHlzAg\",\"review_count\":776,\"categories\":[{\"alias\":\"burgers\",\"title\":\"Burgers\"},{\"alias\":\"beerbar\",\"title\":\"Beer Bar\"}],\"rating\":4.0,\"coordinates\":{\"latitude\":47.6759439,\"longitude\":-122.3176159},\"transactions\":[\"delivery\",\"pickup\"],\"price\":\"$$\",\"location\":{\"address1\":\"6501 Roosevelt Way NE\",\"address2\":null,\"address3\":\"\",\"city\":\"Seattle\",\"zip_code\":\"98115\",\"country\":\"US\",\"state\":\"WA\",\"display_address\":[\"6501 Roosevelt Way NE\",\"Seattle, WA 98115\"]},\"phone\":\"+12065253542\",\"display_phone\":\"(206) 525-3542\",\"distance\":5775.7881142048},{\"id\":\"Typ4u1aCYFBXaki_ylNTuQ\",\"alias\":\"s-t-hooligans-seattle\",\"name\":\"S\\\\/T Hooligans\",\"image_url\":\"https:\\\\/\\\\/s3-media2.fl.yelpcdn.com\\\\/bphoto\\\\/vfFWEyr8vMP3nkaGnAhHlg\\\\/o.jpg\",\"is_closed\":false,\"url\":\"https:\\\\/\\\\/www.yelp.com\\\\/biz\\\\/s-t-hooligans-seattle?adjust_creative=lgcF84OQ4e56GcDauHlzAg&utm_campaign=yelp_api_v3&utm_medium=api_v3_business_search&utm_source=lgcF84OQ4e56GcDauHlzAg\",\"review_count\":323,\"categories\":[{\"alias\":\"cajun\",\"title\":\"Cajun\\\\/Creole\"},{\"alias\":\"burgers\",\"title\":\"Burgers\"},{\"alias\":\"newamerican\",\"title\":\"American (New)\"}],\"rating\":5.0,\"coordinates\":{\"latitude\":47.66023,\"longitude\":-122.36568},\"transactions\":[\"delivery\",\"pickup\"],\"price\":\"$$\",\"location\":{\"address1\":\"4354 Leary Way NW\",\"address2\":\"\",\"address3\":null,\"city\":\"Seattle\",\"zip_code\":\"98107\",\"country\":\"US\",\"state\":\"WA\",\"display_address\":[\"4354 Leary Way NW\",\"Seattle, WA 98107\"]},\"phone\":\"+12066594754\",\"display_phone\":\"(206) 659-4754\",\"distance\":4482.3832218571},{\"id\":\"i5l44iAFeMC80o4vDLh3Gg\",\"alias\":\"west-seattle-swinery-seattle\",\"name\":\"West Seattle Swinery\",\"image_url\":\"https:\\\\/\\\\/s3-media2.fl.yelpcdn.com\\\\/bphoto\\\\/SvIGBtL00-pDwQlORFpm8A\\\\/o.jpg\",\"is_closed\":false,\"url\":\"https:\\\\/\\\\/www.yelp.com\\\\/biz\\\\/west-seattle-swinery-seattle?adjust_creative=lgcF84OQ4e56GcDauHlzAg&utm_campaign=yelp_api_v3&utm_medium=api_v3_business_search&utm_source=lgcF84OQ4e56GcDauHlzAg\",\"review_count\":394,\"categories\":[{\"alias\":\"meats\",\"title\":\"Meat Shops\"},{\"alias\":\"burgers\",\"title\":\"Burgers\"},{\"alias\":\"tradamerican\",\"title\":\"American (Traditional)\"}],\"rating\":4.5,\"coordinates\":{\"latitude\":47.575356,\"longitude\":-122.387147},\"transactions\":[\"delivery\"],\"price\":\"$$\",\"location\":{\"address1\":\"3207 California Ave SW\",\"address2\":\"\",\"address3\":\"\",\"city\":\"Seattle\",\"zip_code\":\"98116\",\"country\":\"US\",\"state\":\"WA\",\"display_address\":[\"3207 California Ave SW\",\"Seattle, WA 98116\"]},\"phone\":\"+12069324211\",\"display_phone\":\"(206) 932-4211\",\"distance\":6780.729764274},{\"id\":\"TMLD9iSY0L4YXf1gAFZiNA\",\"alias\":\"burbs-burgers-seattle-3\",\"name\":\"Burb\\'s Burgers\",\"image_url\":\"https:\\\\/\\\\/s3-media1.fl.yelpcdn.com\\\\/bphoto\\\\/i6D0UjtjqbRrvTaie5qDtw\\\\/o.jpg\",\"is_closed\":false,\"url\":\"https:\\\\/\\\\/www.yelp.com\\\\/biz\\\\/burbs-burgers-seattle-3?adjust_creative=lgcF84OQ4e56GcDauHlzAg&utm_campaign=yelp_api_v3&utm_medium=api_v3_business_search&utm_source=lgcF84OQ4e56GcDauHlzAg\",\"review_count\":26,\"categories\":[{\"alias\":\"burgers\",\"title\":\"Burgers\"}],\"rating\":4.5,\"coordinates\":{\"latitude\":47.597957,\"longitude\":-122.33303},\"transactions\":[\"delivery\"],\"price\":null,\"location\":{\"address1\":\"121 S King St\",\"address2\":null,\"address3\":\"\",\"city\":\"Seattle\",\"zip_code\":\"98104\",\"country\":\"US\",\"state\":\"WA\",\"display_address\":[\"121 S King St\",\"Seattle, WA 98104\"]},\"phone\":\"+12064203015\",\"display_phone\":\"(206) 420-3015\",\"distance\":3044.8305007913},{\"id\":\"mo36MO1yO1zxNh5f1bJ9fw\",\"alias\":\"pick-quick-drive-in-seattle\",\"name\":\"PICK-QUICK Drive In\",\"image_url\":\"https:\\\\/\\\\/s3-media3.fl.yelpcdn.com\\\\/bphoto\\\\/lIx9buS27azk1rqAxW0CUA\\\\/o.jpg\",\"is_closed\":false,\"url\":\"https:\\\\/\\\\/www.yelp.com\\\\/biz\\\\/pick-quick-drive-in-seattle?adjust_creative=lgcF84OQ4e56GcDauHlzAg&utm_campaign=yelp_api_v3&utm_medium=api_v3_business_search&utm_source=lgcF84OQ4e56GcDauHlzAg\",\"review_count\":175,\"categories\":[{\"alias\":\"hotdogs\",\"title\":\"Fast Food\"},{\"alias\":\"burgers\",\"title\":\"Burgers\"},{\"alias\":\"icecream\",\"title\":\"Ice Cream & Frozen Yogurt\"}],\"rating\":3.5,\"coordinates\":{\"latitude\":47.57597,\"longitude\":-122.32795},\"transactions\":[\"delivery\",\"pickup\"],\"price\":\"$\",\"location\":{\"address1\":\"2990 4th Ave S\",\"address2\":\"\",\"address3\":null,\"city\":\"Seattle\",\"zip_code\":\"98134\",\"country\":\"US\",\"state\":\"WA\",\"display_address\":[\"2990 4th Ave S\",\"Seattle, WA 98134\"]},\"phone\":\"+12062071111\",\"display_phone\":\"(206) 207-1111\",\"distance\":5532.1521144551},{\"id\":\"3rfoWwB2LsG6TSbmKk3C-w\",\"alias\":\"just-burgers-udistrict-seattle\",\"name\":\"Just Burgers Udistrict\",\"image_url\":\"https:\\\\/\\\\/s3-media1.fl.yelpcdn.com\\\\/bphoto\\\\/pydAttdWVxFP1U0TMiAzrw\\\\/o.jpg\",\"is_closed\":false,\"url\":\"https:\\\\/\\\\/www.yelp.com\\\\/biz\\\\/just-burgers-udistrict-seattle?adjust_creative=lgcF84OQ4e56GcDauHlzAg&utm_campaign=yelp_api_v3&utm_medium=api_v3_business_search&utm_source=lgcF84OQ4e56GcDauHlzAg\",\"review_count\":440,\"categories\":[{\"alias\":\"burgers\",\"title\":\"Burgers\"}],\"rating\":4.0,\"coordinates\":{\"latitude\":47.661621,\"longitude\":-122.312979},\"transactions\":[\"delivery\",\"pickup\"],\"price\":\"$$\",\"location\":{\"address1\":\"4510 University Way NE\",\"address2\":\"\",\"address3\":\"\",\"city\":\"Seattle\",\"zip_code\":\"98105\",\"country\":\"US\",\"state\":\"WA\",\"display_address\":[\"4510 University Way NE\",\"Seattle, WA 98105\"]},\"phone\":\"+14252761824\",\"display_phone\":\"(425) 276-1824\",\"distance\":4365.0452815814},{\"id\":\"Yhcfxlpb-tNmRjXglnkb8Q\",\"alias\":\"big-max-burger-seattle\",\"name\":\"Big Max Burger\",\"image_url\":\"https:\\\\/\\\\/s3-media1.fl.yelpcdn.com\\\\/bphoto\\\\/-eeB_fBUUmYIs_6XXUUQSw\\\\/o.jpg\",\"is_closed\":false,\"url\":\"https:\\\\/\\\\/www.yelp.com\\\\/biz\\\\/big-max-burger-seattle?adjust_creative=lgcF84OQ4e56GcDauHlzAg&utm_campaign=yelp_api_v3&utm_medium=api_v3_business_search&utm_source=lgcF84OQ4e56GcDauHlzAg\",\"review_count\":18,\"categories\":[{\"alias\":\"burgers\",\"title\":\"Burgers\"}],\"rating\":4.0,\"coordinates\":{\"latitude\":47.63685,\"longitude\":-122.3573},\"transactions\":[],\"price\":null,\"location\":{\"address1\":\"1935 Queen Anne Ave N\",\"address2\":\"\",\"address3\":null,\"city\":\"Seattle\",\"zip_code\":\"98109\",\"country\":\"US\",\"state\":\"WA\",\"display_address\":[\"1935 Queen Anne Ave N\",\"Seattle, WA 98109\"]},\"phone\":\"+12069466636\",\"display_phone\":\"(206) 946-6636\",\"distance\":2077.6189300339},{\"id\":\"bEnb9bsvN3-x2dFeyYLn0w\",\"alias\":\"206-burger-company-seattle-8\",\"name\":\"206 Burger Company\",\"image_url\":\"https:\\\\/\\\\/s3-media2.fl.yelpcdn.com\\\\/bphoto\\\\/YXrsgHjPEF5frcq0m0OW3w\\\\/o.jpg\",\"is_closed\":false,\"url\":\"https:\\\\/\\\\/www.yelp.com\\\\/biz\\\\/206-burger-company-seattle-8?adjust_creative=lgcF84OQ4e56GcDauHlzAg&utm_campaign=yelp_api_v3&utm_medium=api_v3_business_search&utm_source=lgcF84OQ4e56GcDauHlzAg\",\"review_count\":11,\"categories\":[{\"alias\":\"burgers\",\"title\":\"Burgers\"}],\"rating\":4.5,\"coordinates\":{\"latitude\":47.6612591683,\"longitude\":-122.3408871945},\"transactions\":[\"delivery\",\"pickup\"],\"price\":null,\"location\":{\"address1\":\"1329 N 45th St\",\"address2\":null,\"address3\":\"\",\"city\":\"Seattle\",\"zip_code\":\"98103\",\"country\":\"US\",\"state\":\"WA\",\"display_address\":[\"1329 N 45th St\",\"Seattle, WA 98103\"]},\"phone\":\"+12064534179\",\"display_phone\":\"(206) 453-4179\",\"distance\":4005.5418843451},{\"id\":\"uB1pLJsB8RaXrUaC_ka-9w\",\"alias\":\"8-oz-burger-and-co-seattle-2\",\"name\":\"8 Oz Burger & Co\",\"image_url\":\"https:\\\\/\\\\/s3-media1.fl.yelpcdn.com\\\\/bphoto\\\\/6zpdfN8E-a4PtY_w-mKCjA\\\\/o.jpg\",\"is_closed\":false,\"url\":\"https:\\\\/\\\\/www.yelp.com\\\\/biz\\\\/8-oz-burger-and-co-seattle-2?adjust_creative=lgcF84OQ4e56GcDauHlzAg&utm_campaign=yelp_api_v3&utm_medium=api_v3_business_search&utm_source=lgcF84OQ4e56GcDauHlzAg\",\"review_count\":551,\"categories\":[{\"alias\":\"burgers\",\"title\":\"Burgers\"}],\"rating\":4.0,\"coordinates\":{\"latitude\":47.66844,\"longitude\":-122.38816},\"transactions\":[\"delivery\",\"pickup\"],\"price\":\"$$\",\"location\":{\"address1\":\"2409 NW Market St\",\"address2\":\"\",\"address3\":\"\",\"city\":\"Seattle\",\"zip_code\":\"98107\",\"country\":\"US\",\"state\":\"WA\",\"display_address\":[\"2409 NW Market St\",\"Seattle, WA 98107\"]},\"phone\":\"+12067822491\",\"display_phone\":\"(206) 782-2491\",\"distance\":6200.8103084512},{\"id\":\"3sJI8y8fr9gWpq8Uw_jJ2w\",\"alias\":\"206-burger-company-seattle-6\",\"name\":\"206 Burger Company\",\"image_url\":\"https:\\\\/\\\\/s3-media1.fl.yelpcdn.com\\\\/bphoto\\\\/CljTsOK_XSYCMpdAc-spGA\\\\/o.jpg\",\"is_closed\":false,\"url\":\"https:\\\\/\\\\/www.yelp.com\\\\/biz\\\\/206-burger-company-seattle-6?adjust_creative=lgcF84OQ4e56GcDauHlzAg&utm_campaign=yelp_api_v3&utm_medium=api_v3_business_search&utm_source=lgcF84OQ4e56GcDauHlzAg\",\"review_count\":41,\"categories\":[{\"alias\":\"burgers\",\"title\":\"Burgers\"}],\"rating\":4.0,\"coordinates\":{\"latitude\":47.64840314,\"longitude\":-122.3554174},\"transactions\":[\"delivery\",\"pickup\"],\"price\":null,\"location\":{\"address1\":\"101 Nickerson St\",\"address2\":\"Ste 100\",\"address3\":\"\",\"city\":\"Seattle\",\"zip_code\":\"98109\",\"country\":\"US\",\"state\":\"WA\",\"display_address\":[\"101 Nickerson St\",\"Ste 100\",\"Seattle, WA 98109\"]},\"phone\":\"+12064202801\",\"display_phone\":\"(206) 420-2801\",\"distance\":2959.1251933732},{\"id\":\"orqdI_NDAdHuLNAMLhHrIg\",\"alias\":\"re-public-seattle-2\",\"name\":\"re:public\",\"image_url\":\"https:\\\\/\\\\/s3-media4.fl.yelpcdn.com\\\\/bphoto\\\\/PZkw9xSdVqLlFKCIz7EEBw\\\\/o.jpg\",\"is_closed\":false,\"url\":\"https:\\\\/\\\\/www.yelp.com\\\\/biz\\\\/re-public-seattle-2?adjust_creative=lgcF84OQ4e56GcDauHlzAg&utm_campaign=yelp_api_v3&utm_medium=api_v3_business_search&utm_source=lgcF84OQ4e56GcDauHlzAg\",\"review_count\":611,\"categories\":[{\"alias\":\"newamerican\",\"title\":\"American (New)\"},{\"alias\":\"bars\",\"title\":\"Bars\"}],\"rating\":4.0,\"coordinates\":{\"latitude\":47.62289,\"longitude\":-122.33876},\"transactions\":[\"delivery\",\"pickup\"],\"price\":\"$$\",\"location\":{\"address1\":\"429 Westlake Ave N\",\"address2\":\"\",\"address3\":\"\",\"city\":\"Seattle\",\"zip_code\":\"98109\",\"country\":\"US\",\"state\":\"WA\",\"display_address\":[\"429 Westlake Ave N\",\"Seattle, WA 98109\"]},\"phone\":\"+12064675300\",\"display_phone\":\"(206) 467-5300\",\"distance\":374.8663564091},{\"id\":\"EEhJ94TPnCqp1yJDuuqOsw\",\"alias\":\"two-doors-down-seattle\",\"name\":\"Two Doors Down\",\"image_url\":\"https:\\\\/\\\\/s3-media1.fl.yelpcdn.com\\\\/bphoto\\\\/x4H45IFIW9owKiCzVrhH-g\\\\/o.jpg\",\"is_closed\":false,\"url\":\"https:\\\\/\\\\/www.yelp.com\\\\/biz\\\\/two-doors-down-seattle?adjust_creative=lgcF84OQ4e56GcDauHlzAg&utm_campaign=yelp_api_v3&utm_medium=api_v3_business_search&utm_source=lgcF84OQ4e56GcDauHlzAg\",\"review_count\":197,\"categories\":[{\"alias\":\"bars\",\"title\":\"Bars\"},{\"alias\":\"burgers\",\"title\":\"Burgers\"}],\"rating\":4.0,\"coordinates\":{\"latitude\":47.62006,\"longitude\":-122.30149},\"transactions\":[\"delivery\"],\"price\":\"$$\",\"location\":{\"address1\":\"2332 E Madison St\",\"address2\":\"\",\"address3\":\"\",\"city\":\"Seattle\",\"zip_code\":\"98112\",\"country\":\"US\",\"state\":\"WA\",\"display_address\":[\"2332 E Madison St\",\"Seattle, WA 98112\"]},\"phone\":\"+12063242337\",\"display_phone\":\"(206) 324-2337\",\"distance\":2615.3236831219},{\"id\":\"s3BaELzbrfq9va1X0tYTJA\",\"alias\":\"perihelion-brewery-seattle\",\"name\":\"Perihelion Brewery\",\"image_url\":\"https:\\\\/\\\\/s3-media3.fl.yelpcdn.com\\\\/bphoto\\\\/0jELkIhgmL-YEVqPau6DGQ\\\\/o.jpg\",\"is_closed\":false,\"url\":\"https:\\\\/\\\\/www.yelp.com\\\\/biz\\\\/perihelion-brewery-seattle?adjust_creative=lgcF84OQ4e56GcDauHlzAg&utm_campaign=yelp_api_v3&utm_medium=api_v3_business_search&utm_source=lgcF84OQ4e56GcDauHlzAg\",\"review_count\":373,\"categories\":[{\"alias\":\"burgers\",\"title\":\"Burgers\"},{\"alias\":\"brewpubs\",\"title\":\"Brewpubs\"}],\"rating\":4.5,\"coordinates\":{\"latitude\":47.57844,\"longitude\":-122.31182},\"transactions\":[\"delivery\",\"pickup\"],\"price\":\"$$\",\"location\":{\"address1\":\"2800 16th Ave S\",\"address2\":\"\",\"address3\":\"\",\"city\":\"Seattle\",\"zip_code\":\"98144\",\"country\":\"US\",\"state\":\"WA\",\"display_address\":[\"2800 16th Ave S\",\"Seattle, WA 98144\"]},\"phone\":\"+12062003935\",\"display_phone\":\"(206) 200-3935\",\"distance\":5512.9720622863},{\"id\":\"7yyDBhwcpSvlCSjsIclnmw\",\"alias\":\"feed-co-burgers-seattle-3\",\"name\":\"Feed Co. Burgers\",\"image_url\":\"https:\\\\/\\\\/s3-media4.fl.yelpcdn.com\\\\/bphoto\\\\/LaWDJ4QJuWr-E2FP--vhDg\\\\/o.jpg\",\"is_closed\":false,\"url\":\"https:\\\\/\\\\/www.yelp.com\\\\/biz\\\\/feed-co-burgers-seattle-3?adjust_creative=lgcF84OQ4e56GcDauHlzAg&utm_campaign=yelp_api_v3&utm_medium=api_v3_business_search&utm_source=lgcF84OQ4e56GcDauHlzAg\",\"review_count\":220,\"categories\":[{\"alias\":\"burgers\",\"title\":\"Burgers\"}],\"rating\":4.0,\"coordinates\":{\"latitude\":47.612780795,\"longitude\":-122.3012388274},\"transactions\":[\"delivery\",\"pickup\"],\"price\":\"$$\",\"location\":{\"address1\":\"1190 24th Ave\",\"address2\":\"\",\"address3\":null,\"city\":\"Seattle\",\"zip_code\":\"98122\",\"country\":\"US\",\"state\":\"WA\",\"display_address\":[\"1190 24th Ave\",\"Seattle, WA 98122\"]},\"phone\":\"+12067266000\",\"display_phone\":\"(206) 726-6000\",\"distance\":2927.9841726127},{\"id\":\"x8BFKHu7ajvXLOA0_33bbg\",\"alias\":\"old-stove-brewing-seattle-3\",\"name\":\"Old Stove Brewing\",\"image_url\":\"https:\\\\/\\\\/s3-media3.fl.yelpcdn.com\\\\/bphoto\\\\/d-IJL6kQYrptgcozpyEn4Q\\\\/o.jpg\",\"is_closed\":false,\"url\":\"https:\\\\/\\\\/www.yelp.com\\\\/biz\\\\/old-stove-brewing-seattle-3?adjust_creative=lgcF84OQ4e56GcDauHlzAg&utm_campaign=yelp_api_v3&utm_medium=api_v3_business_search&utm_source=lgcF84OQ4e56GcDauHlzAg\",\"review_count\":846,\"categories\":[{\"alias\":\"brewpubs\",\"title\":\"Brewpubs\"},{\"alias\":\"seafood\",\"title\":\"Seafood\"},{\"alias\":\"burgers\",\"title\":\"Burgers\"}],\"rating\":4.5,\"coordinates\":{\"latitude\":47.6094717412,\"longitude\":-122.3425589494},\"transactions\":[\"delivery\",\"pickup\"],\"price\":\"$$\",\"location\":{\"address1\":\"1901 Western Ave\",\"address2\":\"Ste A\",\"address3\":null,\"city\":\"Seattle\",\"zip_code\":\"98101\",\"country\":\"US\",\"state\":\"WA\",\"display_address\":[\"1901 Western Ave\",\"Ste A\",\"Seattle, WA 98101\"]},\"phone\":\"+12066026120\",\"display_phone\":\"(206) 602-6120\",\"distance\":1850.2897834848},{\"id\":\"VSWKoV1zTtjyEXAFJwdeHA\",\"alias\":\"lil-woodys-seattle\",\"name\":\"Li\\'l Woody\\'s\",\"image_url\":\"https:\\\\/\\\\/s3-media4.fl.yelpcdn.com\\\\/bphoto\\\\/yOo7a3gEyshNkIiF7Z7znQ\\\\/o.jpg\",\"is_closed\":false,\"url\":\"https:\\\\/\\\\/www.yelp.com\\\\/biz\\\\/lil-woodys-seattle?adjust_creative=lgcF84OQ4e56GcDauHlzAg&utm_campaign=yelp_api_v3&utm_medium=api_v3_business_search&utm_source=lgcF84OQ4e56GcDauHlzAg\",\"review_count\":989,\"categories\":[{\"alias\":\"burgers\",\"title\":\"Burgers\"},{\"alias\":\"juicebars\",\"title\":\"Juice Bars & Smoothies\"},{\"alias\":\"hotdogs\",\"title\":\"Fast Food\"}],\"rating\":3.5,\"coordinates\":{\"latitude\":47.61495,\"longitude\":-122.32818},\"transactions\":[\"delivery\",\"pickup\"],\"price\":\"$$\",\"location\":{\"address1\":\"1211 Pine St\",\"address2\":null,\"address3\":\"\",\"city\":\"Seattle\",\"zip_code\":\"98101\",\"country\":\"US\",\"state\":\"WA\",\"display_address\":[\"1211 Pine St\",\"Seattle, WA 98101\"]},\"phone\":\"+12064574148\",\"display_phone\":\"(206) 457-4148\",\"distance\":1285.9865204947},{\"id\":\"XvP6PIQwocS43WQ3aKAD2g\",\"alias\":\"red-mill-burgers-seattle-3\",\"name\":\"Red Mill Burgers\",\"image_url\":\"https:\\\\/\\\\/s3-media2.fl.yelpcdn.com\\\\/bphoto\\\\/pwAaoJ8Y860tqlLoYYx4xQ\\\\/o.jpg\",\"is_closed\":false,\"url\":\"https:\\\\/\\\\/www.yelp.com\\\\/biz\\\\/red-mill-burgers-seattle-3?adjust_creative=lgcF84OQ4e56GcDauHlzAg&utm_campaign=yelp_api_v3&utm_medium=api_v3_business_search&utm_source=lgcF84OQ4e56GcDauHlzAg\",\"review_count\":875,\"categories\":[{\"alias\":\"burgers\",\"title\":\"Burgers\"}],\"rating\":4.0,\"coordinates\":{\"latitude\":47.64819,\"longitude\":-122.3783},\"transactions\":[],\"price\":\"$$\",\"location\":{\"address1\":\"1613 W Dravus St\",\"address2\":\"\",\"address3\":\"\",\"city\":\"Seattle\",\"zip_code\":\"98119\",\"country\":\"US\",\"state\":\"WA\",\"display_address\":[\"1613 W Dravus St\",\"Seattle, WA 98119\"]},\"phone\":\"+12062846363\",\"display_phone\":\"(206) 284-6363\",\"distance\":4083.5222980798},{\"id\":\"iEKfq5td_rawmJit6-a5ng\",\"alias\":\"heyday-bar-and-restaurant-seattle-6\",\"name\":\"Heyday Bar & Restaurant\",\"image_url\":\"https:\\\\/\\\\/s3-media1.fl.yelpcdn.com\\\\/bphoto\\\\/MsjYwzCSQfoY7_s4YKnVQg\\\\/o.jpg\",\"is_closed\":false,\"url\":\"https:\\\\/\\\\/www.yelp.com\\\\/biz\\\\/heyday-bar-and-restaurant-seattle-6?adjust_creative=lgcF84OQ4e56GcDauHlzAg&utm_campaign=yelp_api_v3&utm_medium=api_v3_business_search&utm_source=lgcF84OQ4e56GcDauHlzAg\",\"review_count\":250,\"categories\":[{\"alias\":\"burgers\",\"title\":\"Burgers\"},{\"alias\":\"cocktailbars\",\"title\":\"Cocktail Bars\"},{\"alias\":\"breakfast_brunch\",\"title\":\"Breakfast & Brunch\"}],\"rating\":4.5,\"coordinates\":{\"latitude\":47.59054,\"longitude\":-122.29219},\"transactions\":[\"delivery\"],\"price\":\"$$\",\"location\":{\"address1\":\"1372 31st Ave S\",\"address2\":\"\",\"address3\":\"\",\"city\":\"Seattle\",\"zip_code\":\"98144\",\"country\":\"US\",\"state\":\"WA\",\"display_address\":[\"1372 31st Ave S\",\"Seattle, WA 98144\"]},\"phone\":\"+12068299816\",\"display_phone\":\"(206) 829-9816\",\"distance\":5059.8439381385},{\"id\":\"VFUabHvfP4_WM2Uu5RqVVg\",\"alias\":\"fat-shack-seattle-4\",\"name\":\"Fat Shack\",\"image_url\":\"https:\\\\/\\\\/s3-media3.fl.yelpcdn.com\\\\/bphoto\\\\/HfQmRRsSlcAp7Is-0Drjug\\\\/o.jpg\",\"is_closed\":false,\"url\":\"https:\\\\/\\\\/www.yelp.com\\\\/biz\\\\/fat-shack-seattle-4?adjust_creative=lgcF84OQ4e56GcDauHlzAg&utm_campaign=yelp_api_v3&utm_medium=api_v3_business_search&utm_source=lgcF84OQ4e56GcDauHlzAg\",\"review_count\":3,\"categories\":[{\"alias\":\"sandwiches\",\"title\":\"Sandwiches\"},{\"alias\":\"burgers\",\"title\":\"Burgers\"},{\"alias\":\"chicken_wings\",\"title\":\"Chicken Wings\"}],\"rating\":4.5,\"coordinates\":{\"latitude\":47.601923057,\"longitude\":-122.3347173572},\"transactions\":[\"delivery\",\"pickup\"],\"price\":null,\"location\":{\"address1\":\"200 S Jackson St\",\"address2\":null,\"address3\":\"\",\"city\":\"Seattle\",\"zip_code\":\"98104\",\"country\":\"US\",\"state\":\"WA\",\"display_address\":[\"200 S Jackson St\",\"Seattle, WA 98104\"]},\"phone\":\"+12066821139\",\"display_phone\":\"(206) 682-1139\",\"distance\":2613.3080129519},{\"id\":\"Zt4LsZXjL0iSKQ3Upxew6A\",\"alias\":\"just-burgers-fremont-seattle-2\",\"name\":\"Just Burgers - Fremont\",\"image_url\":\"https:\\\\/\\\\/s3-media4.fl.yelpcdn.com\\\\/bphoto\\\\/KjFR4OijYktGO6oEvT3xSA\\\\/o.jpg\",\"is_closed\":false,\"url\":\"https:\\\\/\\\\/www.yelp.com\\\\/biz\\\\/just-burgers-fremont-seattle-2?adjust_creative=lgcF84OQ4e56GcDauHlzAg&utm_campaign=yelp_api_v3&utm_medium=api_v3_business_search&utm_source=lgcF84OQ4e56GcDauHlzAg\",\"review_count\":37,\"categories\":[{\"alias\":\"burgers\",\"title\":\"Burgers\"}],\"rating\":4.0,\"coordinates\":{\"latitude\":47.64996,\"longitude\":-122.34801},\"transactions\":[\"delivery\",\"pickup\"],\"price\":\"$$\",\"location\":{\"address1\":\"743 N 35th St\",\"address2\":\"Ste 101\",\"address3\":null,\"city\":\"Seattle\",\"zip_code\":\"98103\",\"country\":\"US\",\"state\":\"WA\",\"display_address\":[\"743 N 35th St\",\"Ste 101\",\"Seattle, WA 98103\"]},\"phone\":\"+14252761824\",\"display_phone\":\"(425) 276-1824\",\"distance\":2880.6568111533},{\"id\":\"qAomF5Vb709wraULHufzfw\",\"alias\":\"little-big-burger-seattle-4\",\"name\":\"Little Big Burger\",\"image_url\":\"https:\\\\/\\\\/s3-media3.fl.yelpcdn.com\\\\/bphoto\\\\/la41k9aeb1qU-hBT1y7asw\\\\/o.jpg\",\"is_closed\":false,\"url\":\"https:\\\\/\\\\/www.yelp.com\\\\/biz\\\\/little-big-burger-seattle-4?adjust_creative=lgcF84OQ4e56GcDauHlzAg&utm_campaign=yelp_api_v3&utm_medium=api_v3_business_search&utm_source=lgcF84OQ4e56GcDauHlzAg\",\"review_count\":205,\"categories\":[{\"alias\":\"burgers\",\"title\":\"Burgers\"}],\"rating\":4.0,\"coordinates\":{\"latitude\":47.61431,\"longitude\":-122.31651},\"transactions\":[\"delivery\",\"pickup\"],\"price\":null,\"location\":{\"address1\":\"1200 E Pike St\",\"address2\":\"Ste 101\",\"address3\":null,\"city\":\"Seattle\",\"zip_code\":\"98122\",\"country\":\"US\",\"state\":\"WA\",\"display_address\":[\"1200 E Pike St\",\"Ste 101\",\"Seattle, WA 98122\"]},\"phone\":\"+12064203955\",\"display_phone\":\"(206) 420-3955\",\"distance\":1885.2229487613},{\"id\":\"LQL1RLMt677c0SKzBW-5Ag\",\"alias\":\"giddy-up-burgers-seattle\",\"name\":\"Giddy Up Burgers\",\"image_url\":\"https:\\\\/\\\\/s3-media3.fl.yelpcdn.com\\\\/bphoto\\\\/S1ADhHB75iXlZgM08MzwLg\\\\/o.jpg\",\"is_closed\":false,\"url\":\"https:\\\\/\\\\/www.yelp.com\\\\/biz\\\\/giddy-up-burgers-seattle?adjust_creative=lgcF84OQ4e56GcDauHlzAg&utm_campaign=yelp_api_v3&utm_medium=api_v3_business_search&utm_source=lgcF84OQ4e56GcDauHlzAg\",\"review_count\":401,\"categories\":[{\"alias\":\"burgers\",\"title\":\"Burgers\"},{\"alias\":\"newamerican\",\"title\":\"American (New)\"}],\"rating\":4.0,\"coordinates\":{\"latitude\":47.6624146,\"longitude\":-122.3675379},\"transactions\":[\"delivery\"],\"price\":\"$$\",\"location\":{\"address1\":\"4600 Leary Way NW\",\"address2\":\"\",\"address3\":\"\",\"city\":\"Seattle\",\"zip_code\":\"98107\",\"country\":\"US\",\"state\":\"WA\",\"display_address\":[\"4600 Leary Way NW\",\"Seattle, WA 98107\"]},\"phone\":\"+12067822798\",\"display_phone\":\"(206) 782-2798\",\"distance\":4762.3175508309},{\"id\":\"0v-RKxYMejB30CVDjU15_g\",\"alias\":\"local-public-eatery-seattle-6\",\"name\":\"Local Public Eatery\",\"image_url\":\"https:\\\\/\\\\/s3-media1.fl.yelpcdn.com\\\\/bphoto\\\\/R-0nrShZPJ7DzisuSL60sA\\\\/o.jpg\",\"is_closed\":false,\"url\":\"https:\\\\/\\\\/www.yelp.com\\\\/biz\\\\/local-public-eatery-seattle-6?adjust_creative=lgcF84OQ4e56GcDauHlzAg&utm_campaign=yelp_api_v3&utm_medium=api_v3_business_search&utm_source=lgcF84OQ4e56GcDauHlzAg\",\"review_count\":465,\"categories\":[{\"alias\":\"bars\",\"title\":\"Bars\"},{\"alias\":\"newamerican\",\"title\":\"American (New)\"}],\"rating\":4.0,\"coordinates\":{\"latitude\":47.6222538,\"longitude\":-122.3368959},\"transactions\":[\"delivery\"],\"price\":\"$$\",\"location\":{\"address1\":\"404 Terry Ave N\",\"address2\":null,\"address3\":\"\",\"city\":\"Seattle\",\"zip_code\":\"98109\",\"country\":\"US\",\"state\":\"WA\",\"display_address\":[\"404 Terry Ave N\",\"Seattle, WA 98109\"]},\"phone\":\"+12062571888\",\"display_phone\":\"(206) 257-1888\",\"distance\":366.9596398441},{\"id\":\"x31M4pVKfOWYwxL5o_wXPQ\",\"alias\":\"lorettas-northwesterner-seattle\",\"name\":\"Loretta\\'s Northwesterner\",\"image_url\":\"https:\\\\/\\\\/s3-media4.fl.yelpcdn.com\\\\/bphoto\\\\/xxF_Z7QGmyFgMT8pQqllFA\\\\/o.jpg\",\"is_closed\":false,\"url\":\"https:\\\\/\\\\/www.yelp.com\\\\/biz\\\\/lorettas-northwesterner-seattle?adjust_creative=lgcF84OQ4e56GcDauHlzAg&utm_campaign=yelp_api_v3&utm_medium=api_v3_business_search&utm_source=lgcF84OQ4e56GcDauHlzAg\",\"review_count\":566,\"categories\":[{\"alias\":\"burgers\",\"title\":\"Burgers\"},{\"alias\":\"divebars\",\"title\":\"Dive Bars\"}],\"rating\":4.0,\"coordinates\":{\"latitude\":47.52588,\"longitude\":-122.31514},\"transactions\":[],\"price\":\"$$\",\"location\":{\"address1\":\"8617 14th Ave S\",\"address2\":\"\",\"address3\":\"\",\"city\":\"Seattle\",\"zip_code\":\"98108\",\"country\":\"US\",\"state\":\"WA\",\"display_address\":[\"8617 14th Ave S\",\"Seattle, WA 98108\"]},\"phone\":\"+12063279649\",\"display_phone\":\"(206) 327-9649\",\"distance\":11175.151716852},{\"id\":\"Z2x0Ck_DvTFOItm3InC6WQ\",\"alias\":\"sunny-hill-seattle\",\"name\":\"Sunny Hill\",\"image_url\":\"https:\\\\/\\\\/s3-media1.fl.yelpcdn.com\\\\/bphoto\\\\/lA6a7K3CW-VZ8b64oDg-eA\\\\/o.jpg\",\"is_closed\":false,\"url\":\"https:\\\\/\\\\/www.yelp.com\\\\/biz\\\\/sunny-hill-seattle?adjust_creative=lgcF84OQ4e56GcDauHlzAg&utm_campaign=yelp_api_v3&utm_medium=api_v3_business_search&utm_source=lgcF84OQ4e56GcDauHlzAg\",\"review_count\":68,\"categories\":[{\"alias\":\"pizza\",\"title\":\"Pizza\"},{\"alias\":\"burgers\",\"title\":\"Burgers\"},{\"alias\":\"breakfast_brunch\",\"title\":\"Breakfast & Brunch\"}],\"rating\":4.5,\"coordinates\":{\"latitude\":47.690405,\"longitude\":-122.397945},\"transactions\":[\"delivery\"],\"price\":\"$$\",\"location\":{\"address1\":\"3127 NW 85th St\",\"address2\":null,\"address3\":\"\",\"city\":\"Seattle\",\"zip_code\":\"98117\",\"country\":\"US\",\"state\":\"WA\",\"display_address\":[\"3127 NW 85th St\",\"Seattle, WA 98117\"]},\"phone\":\"+12066590355\",\"display_phone\":\"(206) 659-0355\",\"distance\":8609.975498286},{\"id\":\"vr8NmdgsNtXYUpVmcKUUSQ\",\"alias\":\"good-burger-shoreline\",\"name\":\"Good Burger\",\"image_url\":\"https:\\\\/\\\\/s3-media2.fl.yelpcdn.com\\\\/bphoto\\\\/0GpCMIi96lGTSQvFMWB3kA\\\\/o.jpg\",\"is_closed\":false,\"url\":\"https:\\\\/\\\\/www.yelp.com\\\\/biz\\\\/good-burger-shoreline?adjust_creative=lgcF84OQ4e56GcDauHlzAg&utm_campaign=yelp_api_v3&utm_medium=api_v3_business_search&utm_source=lgcF84OQ4e56GcDauHlzAg\",\"review_count\":74,\"categories\":[{\"alias\":\"burgers\",\"title\":\"Burgers\"},{\"alias\":\"hotdogs\",\"title\":\"Fast Food\"},{\"alias\":\"tradamerican\",\"title\":\"American (Traditional)\"}],\"rating\":4.0,\"coordinates\":{\"latitude\":47.7727951,\"longitude\":-122.3464413239},\"transactions\":[\"delivery\",\"pickup\"],\"price\":\"$$\",\"location\":{\"address1\":\"19811 Aurora Ave N\",\"address2\":null,\"address3\":\"\",\"city\":\"Shoreline\",\"zip_code\":\"98133\",\"country\":\"US\",\"state\":\"WA\",\"display_address\":[\"19811 Aurora Ave N\",\"Shoreline, WA 98133\"]},\"phone\":\"+12068017050\",\"display_phone\":\"(206) 801-7050\",\"distance\":16407.8564450748},{\"id\":\"gtlxyyV8R87wjqZCvO1VWw\",\"alias\":\"burbs-burgers-seattle-4\",\"name\":\"Burbs Burgers\",\"image_url\":\"https:\\\\/\\\\/s3-media2.fl.yelpcdn.com\\\\/bphoto\\\\/I6Xwdtd5PGXZs5Gq9Fvfwg\\\\/o.jpg\",\"is_closed\":false,\"url\":\"https:\\\\/\\\\/www.yelp.com\\\\/biz\\\\/burbs-burgers-seattle-4?adjust_creative=lgcF84OQ4e56GcDauHlzAg&utm_campaign=yelp_api_v3&utm_medium=api_v3_business_search&utm_source=lgcF84OQ4e56GcDauHlzAg\",\"review_count\":7,\"categories\":[{\"alias\":\"burgers\",\"title\":\"Burgers\"}],\"rating\":4.5,\"coordinates\":{\"latitude\":47.5501728611,\"longitude\":-122.31802091},\"transactions\":[],\"price\":null,\"location\":{\"address1\":\"5825 Airport Way S\",\"address2\":\"\",\"address3\":null,\"city\":\"Seattle\",\"zip_code\":\"98108\",\"country\":\"US\",\"state\":\"WA\",\"display_address\":[\"5825 Airport Way S\",\"Seattle, WA 98108\"]},\"phone\":\"\",\"display_phone\":\"\",\"distance\":8469.1693556904},{\"id\":\"VO0O2bXz2tJOAkjoBYiiAw\",\"alias\":\"burgermaster-bellevue\",\"name\":\"Burgermaster\",\"image_url\":\"https:\\\\/\\\\/s3-media1.fl.yelpcdn.com\\\\/bphoto\\\\/u6xZFq-Oe1KmHQzruawwlw\\\\/o.jpg\",\"is_closed\":false,\"url\":\"https:\\\\/\\\\/www.yelp.com\\\\/biz\\\\/burgermaster-bellevue?adjust_creative=lgcF84OQ4e56GcDauHlzAg&utm_campaign=yelp_api_v3&utm_medium=api_v3_business_search&utm_source=lgcF84OQ4e56GcDauHlzAg\",\"review_count\":503,\"categories\":[{\"alias\":\"burgers\",\"title\":\"Burgers\"}],\"rating\":4.0,\"coordinates\":{\"latitude\":47.64215,\"longitude\":-122.19884},\"transactions\":[\"delivery\"],\"price\":\"$$\",\"location\":{\"address1\":\"10606 Northup Way\",\"address2\":\"\",\"address3\":\"\",\"city\":\"Bellevue\",\"zip_code\":\"98004\",\"country\":\"US\",\"state\":\"WA\",\"display_address\":[\"10606 Northup Way\",\"Bellevue, WA 98004\"]},\"phone\":\"+14258279566\",\"display_phone\":\"(425) 827-9566\",\"distance\":10406.7072250502},{\"id\":\"ptobCLHPk5dzuBEIjWumAw\",\"alias\":\"tipsy-cow-burger-bar-redmond-redmond-3\",\"name\":\"Tipsy Cow Burger Bar - Redmond\",\"image_url\":\"https:\\\\/\\\\/s3-media1.fl.yelpcdn.com\\\\/bphoto\\\\/KNDpoPmww73-VINNDW4jiw\\\\/o.jpg\",\"is_closed\":false,\"url\":\"https:\\\\/\\\\/www.yelp.com\\\\/biz\\\\/tipsy-cow-burger-bar-redmond-redmond-3?adjust_creative=lgcF84OQ4e56GcDauHlzAg&utm_campaign=yelp_api_v3&utm_medium=api_v3_business_search&utm_source=lgcF84OQ4e56GcDauHlzAg\",\"review_count\":1444,\"categories\":[{\"alias\":\"burgers\",\"title\":\"Burgers\"},{\"alias\":\"bars\",\"title\":\"Bars\"}],\"rating\":4.0,\"coordinates\":{\"latitude\":47.673112,\"longitude\":-122.122162},\"transactions\":[\"delivery\"],\"price\":\"$$\",\"location\":{\"address1\":\"16325 Cleveland St\",\"address2\":\"\",\"address3\":null,\"city\":\"Redmond\",\"zip_code\":\"98052\",\"country\":\"US\",\"state\":\"WA\",\"display_address\":[\"16325 Cleveland St\",\"Redmond, WA 98052\"]},\"phone\":\"+14258968716\",\"display_phone\":\"(425) 896-8716\",\"distance\":16838.4625445154},{\"id\":\"1FHWvy2lx3ac-WAnnrawIw\",\"alias\":\"taurus-ox-seattle\",\"name\":\"Taurus Ox\",\"image_url\":\"https:\\\\/\\\\/s3-media1.fl.yelpcdn.com\\\\/bphoto\\\\/TqcDy3iD0mfPd6MEIeI4jg\\\\/o.jpg\",\"is_closed\":false,\"url\":\"https:\\\\/\\\\/www.yelp.com\\\\/biz\\\\/taurus-ox-seattle?adjust_creative=lgcF84OQ4e56GcDauHlzAg&utm_campaign=yelp_api_v3&utm_medium=api_v3_business_search&utm_source=lgcF84OQ4e56GcDauHlzAg\",\"review_count\":249,\"categories\":[{\"alias\":\"laotian\",\"title\":\"Laotian\"},{\"alias\":\"asianfusion\",\"title\":\"Asian Fusion\"},{\"alias\":\"noodles\",\"title\":\"Noodles\"}],\"rating\":4.5,\"coordinates\":{\"latitude\":47.6148530733,\"longitude\":-122.3116436228},\"transactions\":[\"delivery\",\"pickup\"],\"price\":\"$$\",\"location\":{\"address1\":\"1523 E Madison St\",\"address2\":\"Ste 101\",\"address3\":null,\"city\":\"Seattle\",\"zip_code\":\"98122\",\"country\":\"US\",\"state\":\"WA\",\"display_address\":[\"1523 E Madison St\",\"Ste 101\",\"Seattle, WA 98122\"]},\"phone\":\"+12069720075\",\"display_phone\":\"(206) 972-0075\",\"distance\":2140.1334373586},{\"id\":\"ps9ZlLoLYTfK87IjW9REfg\",\"alias\":\"radiator-whiskey-seattle\",\"name\":\"Radiator Whiskey\",\"image_url\":\"https:\\\\/\\\\/s3-media2.fl.yelpcdn.com\\\\/bphoto\\\\/2Z38xi6tz7ErO2eXl22d8g\\\\/o.jpg\",\"is_closed\":false,\"url\":\"https:\\\\/\\\\/www.yelp.com\\\\/biz\\\\/radiator-whiskey-seattle?adjust_creative=lgcF84OQ4e56GcDauHlzAg&utm_campaign=yelp_api_v3&utm_medium=api_v3_business_search&utm_source=lgcF84OQ4e56GcDauHlzAg\",\"review_count\":1340,\"categories\":[{\"alias\":\"newamerican\",\"title\":\"American (New)\"},{\"alias\":\"cocktailbars\",\"title\":\"Cocktail Bars\"},{\"alias\":\"comfortfood\",\"title\":\"Comfort Food\"}],\"rating\":4.5,\"coordinates\":{\"latitude\":47.608949,\"longitude\":-122.340599},\"transactions\":[\"delivery\"],\"price\":\"$$\",\"location\":{\"address1\":\"94 Pike St\",\"address2\":\"Ste 30\",\"address3\":\"\",\"city\":\"Seattle\",\"zip_code\":\"98101\",\"country\":\"US\",\"state\":\"WA\",\"display_address\":[\"94 Pike St\",\"Ste 30\",\"Seattle, WA 98101\"]},\"phone\":\"+12064674268\",\"display_phone\":\"(206) 467-4268\",\"distance\":1870.6817054617},{\"id\":\"Mq9wEGl6h2dMBsCZ0AGxYA\",\"alias\":\"burgermaster-seattle\",\"name\":\"Burgermaster\",\"image_url\":\"https:\\\\/\\\\/s3-media3.fl.yelpcdn.com\\\\/bphoto\\\\/_gLNfPfbzeym-ev7l9imdQ\\\\/o.jpg\",\"is_closed\":false,\"url\":\"https:\\\\/\\\\/www.yelp.com\\\\/biz\\\\/burgermaster-seattle?adjust_creative=lgcF84OQ4e56GcDauHlzAg&utm_campaign=yelp_api_v3&utm_medium=api_v3_business_search&utm_source=lgcF84OQ4e56GcDauHlzAg\",\"review_count\":281,\"categories\":[{\"alias\":\"burgers\",\"title\":\"Burgers\"}],\"rating\":4.0,\"coordinates\":{\"latitude\":47.7010999,\"longitude\":-122.34426},\"transactions\":[\"delivery\"],\"price\":\"$\",\"location\":{\"address1\":\"9820 Aurora Ave N\",\"address2\":\"\",\"address3\":\"\",\"city\":\"Seattle\",\"zip_code\":\"98103\",\"country\":\"US\",\"state\":\"WA\",\"display_address\":[\"9820 Aurora Ave N\",\"Seattle, WA 98103\"]},\"phone\":\"+12065222044\",\"display_phone\":\"(206) 522-2044\",\"distance\":8440.4278587856},{\"id\":\"8AFCyqMMXdxJRMaxCEe8RQ\",\"alias\":\"scooters-burgers-seattle\",\"name\":\"Scooter\\'s Burgers\",\"image_url\":\"https:\\\\/\\\\/s3-media4.fl.yelpcdn.com\\\\/bphoto\\\\/kiVX_pBntsvDsZT3gETEkA\\\\/o.jpg\",\"is_closed\":false,\"url\":\"https:\\\\/\\\\/www.yelp.com\\\\/biz\\\\/scooters-burgers-seattle?adjust_creative=lgcF84OQ4e56GcDauHlzAg&utm_campaign=yelp_api_v3&utm_medium=api_v3_business_search&utm_source=lgcF84OQ4e56GcDauHlzAg\",\"review_count\":280,\"categories\":[{\"alias\":\"burgers\",\"title\":\"Burgers\"}],\"rating\":4.0,\"coordinates\":{\"latitude\":47.67104,\"longitude\":-122.38731},\"transactions\":[\"delivery\",\"pickup\"],\"price\":\"$\",\"location\":{\"address1\":\"5802 24th Ave NW\",\"address2\":\"\",\"address3\":\"\",\"city\":\"Seattle\",\"zip_code\":\"98107\",\"country\":\"US\",\"state\":\"WA\",\"display_address\":[\"5802 24th Ave NW\",\"Seattle, WA 98107\"]},\"phone\":\"+12067822966\",\"display_phone\":\"(206) 782-2966\",\"distance\":6386.393940614}]'"
      ]
     },
     "execution_count": 116,
     "metadata": {},
     "output_type": "execute_result"
    }
   ],
   "source": [
    "all_burgers.to_json(orient='records')"
   ]
  },
  {
   "cell_type": "markdown",
   "id": "ee75b290",
   "metadata": {},
   "source": [
    "# Code for Efficient API Extraction"
   ]
  },
  {
   "cell_type": "code",
   "execution_count": 126,
   "id": "f949adf0",
   "metadata": {},
   "outputs": [],
   "source": [
    "# Additional Imports\n",
    "import os, math, time\n",
    "from tqdm.notebook import tqdm_notebook"
   ]
  },
  {
   "cell_type": "code",
   "execution_count": 118,
   "id": "9a09c4cd",
   "metadata": {},
   "outputs": [],
   "source": [
    "# set our API call parameters and filename before the first call\n",
    "LOCATION = 'Baltimore, MD,21202'\n",
    "TERM = 'Crab Cakes'"
   ]
  },
  {
   "cell_type": "code",
   "execution_count": 119,
   "id": "3cbd32f8",
   "metadata": {},
   "outputs": [
    {
     "data": {
      "text/plain": [
       "'Data/results_in_progress_Crab_cakes.json'"
      ]
     },
     "execution_count": 119,
     "metadata": {},
     "output_type": "execute_result"
    }
   ],
   "source": [
    "# Specifying JSON_FILE filename (can include a folder)\n",
    "# include the search terms in the filename\n",
    "JSON_FILE = f\"Data/results_in_progress_Crab_cakes.json\"\n",
    "JSON_FILE"
   ]
  },
  {
   "cell_type": "code",
   "execution_count": 120,
   "id": "dc0b980d",
   "metadata": {},
   "outputs": [
    {
     "name": "stdout",
     "output_type": "stream",
     "text": [
      "[i] Data/results_in_progress_Crab_cakes.json already exists.\n"
     ]
    }
   ],
   "source": [
    "## Check if JSON_FILE exists\n",
    "file_exists = os.path.isfile(JSON_FILE)\n",
    "## If it does not exist: \n",
    "if file_exists == False:\n",
    "    \n",
    "    ## CREATE ANY NEEDED FOLDERS\n",
    "    # Get the Folder Name only\n",
    "    folder = os.path.dirname(JSON_FILE)\n",
    "    ## If JSON_FILE included a folder:\n",
    "    if len(folder)>0:\n",
    "        # create the folder\n",
    "        os.makedirs(folder,exist_ok=True)\n",
    "        \n",
    "        \n",
    "    ## INFORM USER AND SAVE EMPTY LIST\n",
    "    print(f\"[i] {JSON_FILE} not found. Saving empty list to file.\")\n",
    "    \n",
    "    \n",
    "    ## save the first page of results\n",
    "    with open(JSON_FILE,'w') as f:\n",
    "        json.dump([],f)  \n",
    "## If it exists, inform user\n",
    "else:\n",
    "    print(f\"[i] {JSON_FILE} already exists.\")"
   ]
  },
  {
   "cell_type": "code",
   "execution_count": 121,
   "id": "15f8cf90",
   "metadata": {
    "scrolled": true
   },
   "outputs": [
    {
     "name": "stdout",
     "output_type": "stream",
     "text": [
      "- 433 previous results found.\n"
     ]
    }
   ],
   "source": [
    "## Load previous results and use len of results for offset\n",
    "with open(JSON_FILE,'r') as f:\n",
    "    previous_results = json.load(f)\n",
    "    \n",
    "## set offset based on previous results\n",
    "n_results = len(previous_results)\n",
    "print(f'- {n_results} previous results found.')"
   ]
  },
  {
   "cell_type": "code",
   "execution_count": 122,
   "id": "5eedbd2b",
   "metadata": {},
   "outputs": [
    {
     "data": {
      "text/plain": [
       "dict_keys(['businesses', 'total', 'region'])"
      ]
     },
     "execution_count": 122,
     "metadata": {},
     "output_type": "execute_result"
    }
   ],
   "source": [
    "# use our yelp_api variable's search_query method to perform our API call\n",
    "results = yelp_api.search_query(location=LOCATION,\n",
    "                                term=TERM,\n",
    "                               offset=n_results)\n",
    "results.keys()"
   ]
  },
  {
   "cell_type": "code",
   "execution_count": 123,
   "id": "24f276eb",
   "metadata": {},
   "outputs": [
    {
     "data": {
      "text/plain": [
       "439"
      ]
     },
     "execution_count": 123,
     "metadata": {},
     "output_type": "execute_result"
    }
   ],
   "source": [
    "## How many results total?\n",
    "total_results = results['total']\n",
    "total_results"
   ]
  },
  {
   "cell_type": "code",
   "execution_count": 124,
   "id": "68c0e33d",
   "metadata": {
    "scrolled": true
   },
   "outputs": [
    {
     "data": {
      "text/plain": [
       "0"
      ]
     },
     "execution_count": 124,
     "metadata": {},
     "output_type": "execute_result"
    }
   ],
   "source": [
    "## How many did we get the details for?\n",
    "results_per_page = len(results['businesses'])\n",
    "results_per_page"
   ]
  },
  {
   "cell_type": "code",
   "execution_count": 127,
   "id": "61fdf702",
   "metadata": {},
   "outputs": [
    {
     "ename": "ZeroDivisionError",
     "evalue": "division by zero",
     "output_type": "error",
     "traceback": [
      "\u001b[1;31m---------------------------------------------------------------------------\u001b[0m",
      "\u001b[1;31mZeroDivisionError\u001b[0m                         Traceback (most recent call last)",
      "Input \u001b[1;32mIn [127]\u001b[0m, in \u001b[0;36m<cell line: 2>\u001b[1;34m()\u001b[0m\n\u001b[0;32m      1\u001b[0m \u001b[38;5;66;03m# Use math.ceil to round up for the total number of pages of results.\u001b[39;00m\n\u001b[1;32m----> 2\u001b[0m n_pages \u001b[38;5;241m=\u001b[39m math\u001b[38;5;241m.\u001b[39mceil(\u001b[43m(\u001b[49m\u001b[43mresults\u001b[49m\u001b[43m[\u001b[49m\u001b[38;5;124;43m'\u001b[39;49m\u001b[38;5;124;43mtotal\u001b[39;49m\u001b[38;5;124;43m'\u001b[39;49m\u001b[43m]\u001b[49m\u001b[38;5;241;43m-\u001b[39;49m\u001b[43mn_results\u001b[49m\u001b[43m)\u001b[49m\u001b[38;5;241;43m/\u001b[39;49m\u001b[43m \u001b[49m\u001b[43mresults_per_page\u001b[49m)\n\u001b[0;32m      3\u001b[0m n_pages\n",
      "\u001b[1;31mZeroDivisionError\u001b[0m: division by zero"
     ]
    }
   ],
   "source": [
    "# Use math.ceil to round up for the total number of pages of results.\n",
    "n_pages = math.ceil((results['total']-n_results)/ results_per_page)\n",
    "n_pages"
   ]
  },
  {
   "cell_type": "code",
   "execution_count": null,
   "id": "add3f6e4",
   "metadata": {},
   "outputs": [],
   "source": [
    "# join new results with old list with extend and save to file\n",
    "previous_results.extend(results['businesses'])  \n",
    "with open(JSON_FILE,'w') as f:\n",
    "     json.dump(previous_results,f)"
   ]
  },
  {
   "cell_type": "code",
   "execution_count": null,
   "id": "a2c438a8",
   "metadata": {},
   "outputs": [],
   "source": [
    "from tqdm.notebook import tqdm_notebook\n",
    "import time\n",
    "for i in tqdm_notebook(range(n_pages)):\n",
    "    # adds 200 ms pause\n",
    "    time.sleep(.2) "
   ]
  },
  {
   "cell_type": "code",
   "execution_count": null,
   "id": "d5a37ebc",
   "metadata": {},
   "outputs": [],
   "source": [
    "for i in tqdm_notebook( range(1,n_pages+1)):\n",
    "    time.sleep(.2)\n",
    "    ## Read in results in progress file and check the length\n",
    "    with open(JSON_FILE, 'r') as f:\n",
    "        previous_results = json.load(f)\n",
    "    ## save number of results for to use as offset\n",
    "    n_results = len(previous_results)\n",
    "    ## use n_results as the OFFSET \n",
    "    results = yelp_api.search_query(location=LOCATION,\n",
    "                                    term=TERM, \n",
    "                                    offset=n_results)\n",
    "    \n",
    "    ## append new results and save to file\n",
    "    previous_results.extend(results['businesses'])\n",
    "    \n",
    "#     display(previous_results)\n",
    "    with open(JSON_FILE,'w') as f:\n",
    "        json.dump(previous_results,f)"
   ]
  },
  {
   "cell_type": "code",
   "execution_count": null,
   "id": "1ddedf06",
   "metadata": {},
   "outputs": [],
   "source": [
    "# load final results\n",
    "final_df = pd.read_json(JSON_FILE)\n",
    "display(final_df.head(), final_df.tail())"
   ]
  },
  {
   "cell_type": "code",
   "execution_count": null,
   "id": "8dec267b",
   "metadata": {},
   "outputs": [],
   "source": [
    "# check for duplicate IDs\n",
    "final_df.duplicated(subset='id').sum()"
   ]
  },
  {
   "cell_type": "code",
   "execution_count": null,
   "id": "13b0f40b",
   "metadata": {},
   "outputs": [],
   "source": [
    "# save the final results to a compressed csv\n",
    "final_df.to_csv('Data/final_results_crab_cakes.csv.gz', compression='gzip',index=False)"
   ]
  },
  {
   "cell_type": "markdown",
   "id": "836a859c",
   "metadata": {},
   "source": [
    "# Efficient Yelp API Calls (Core) --- Seattle Pizza"
   ]
  },
  {
   "cell_type": "code",
   "execution_count": null,
   "id": "85d3576d",
   "metadata": {},
   "outputs": [],
   "source": [
    "# set our API call parameters and filename before the first call\n",
    "LOCATION2 = 'Seattle, WA,98148'\n",
    "TERM2 = 'Pizza'"
   ]
  },
  {
   "cell_type": "code",
   "execution_count": null,
   "id": "95bc8d40",
   "metadata": {},
   "outputs": [],
   "source": [
    "# Specifying JSON_FILE filename \n",
    "# include the search terms in the filename\n",
    "JSON_PIZZA_FILE = f\"Data/results_in_progress_Pizza.json\"\n",
    "JSON_PIZZA_FILE"
   ]
  },
  {
   "cell_type": "code",
   "execution_count": null,
   "id": "bead5a31",
   "metadata": {},
   "outputs": [],
   "source": [
    "## Check if JSON_FILE exists\n",
    "file_exists = os.path.isfile(JSON_PIZZA_FILE)\n",
    "## If it does not exist: \n",
    "if file_exists == False:\n",
    "    \n",
    "    ## CREATE ANY NEEDED FOLDERS\n",
    "    # Get the Folder Name only\n",
    "    folder = os.path.dirname(JSON_PIZZA_FILE)\n",
    "    ## If JSON_FILE included a folder:\n",
    "    if len(folder)>0:\n",
    "        # create the folder\n",
    "        os.makedirs(folder,exist_ok=True)\n",
    "        \n",
    "        \n",
    "    ## INFORM USER AND SAVE EMPTY LIST\n",
    "    print(f\"[i] {JSON_PIZZA_FILE} not found. Saving empty list to file.\")\n",
    "    \n",
    "    \n",
    "    ## save the first page of results\n",
    "    with open(JSON_PIZZA_FILE,'w') as f:\n",
    "        json.dump([],f)  \n",
    "## If it exists, inform user\n",
    "else:\n",
    "    print(f\"[i] {JSON_PIZZA_FILE} already exists.\")"
   ]
  },
  {
   "cell_type": "code",
   "execution_count": null,
   "id": "216f4f9b",
   "metadata": {},
   "outputs": [],
   "source": [
    "## Load previous results and use len of results for offset\n",
    "with open(JSON_PIZZA_FILE,'r') as f:\n",
    "    previous_results = json.load(f)\n",
    "    \n",
    "## set offset based on previous results\n",
    "n_results = len(previous_results)\n",
    "print(f'- {n_results} previous results found.')"
   ]
  },
  {
   "cell_type": "code",
   "execution_count": null,
   "id": "83d84d37",
   "metadata": {},
   "outputs": [],
   "source": [
    "# use our yelp_api variable's search_query method to perform our API call\n",
    "results = yelp_api.search_query(location=LOCATION2,\n",
    "                                term=TERM2,\n",
    "                               offset=n_results)\n",
    "results.keys()"
   ]
  },
  {
   "cell_type": "code",
   "execution_count": null,
   "id": "8ca30123",
   "metadata": {},
   "outputs": [],
   "source": [
    "## How many results total for Pizza in Seattle?\n",
    "total_results = results['total']\n",
    "total_results"
   ]
  },
  {
   "cell_type": "code",
   "execution_count": null,
   "id": "b550ea80",
   "metadata": {},
   "outputs": [],
   "source": [
    "## How many did we get the details for?\n",
    "results_per_page = len(results['businesses'])\n",
    "results_per_page"
   ]
  },
  {
   "cell_type": "code",
   "execution_count": null,
   "id": "a9ff650c",
   "metadata": {},
   "outputs": [],
   "source": [
    "# Use math.ceil to round up for the total number of pages of my results.\n",
    "n_pages = math.ceil((results['total']-n_results)/ results_per_page)\n",
    "n_pages"
   ]
  },
  {
   "cell_type": "code",
   "execution_count": null,
   "id": "238d119f",
   "metadata": {},
   "outputs": [],
   "source": [
    "# join new results with old list with extend and save to file\n",
    "previous_results.extend(results['businesses'])  \n",
    "with open(JSON_PIZZA_FILE,'w') as f:\n",
    "     json.dump(previous_results,f)"
   ]
  },
  {
   "cell_type": "code",
   "execution_count": null,
   "id": "ad9f55df",
   "metadata": {},
   "outputs": [],
   "source": [
    "for i in tqdm_notebook( range(1,n_pages+1)):\n",
    "    time.sleep(.2)\n",
    "    ## Read in results in progress file and check the length\n",
    "    with open(JSON_PIZZA_FILE, 'r') as f:\n",
    "        previous_results = json.load(f)\n",
    "    ## save number of results for to use as offset\n",
    "    n_results = len(previous_results)\n",
    "    ## use n_results as the OFFSET \n",
    "    results = yelp_api.search_query(location=LOCATION,\n",
    "                                    term=TERM, \n",
    "                                    offset=n_results)\n",
    "    \n",
    "    ## append new results and save to file\n",
    "    previous_results.extend(results['businesses'])\n",
    "    \n",
    "#     display(previous_results)\n",
    "    with open(JSON_PIZZA_FILE,'w') as f:\n",
    "        json.dump(previous_results,f)"
   ]
  },
  {
   "cell_type": "code",
   "execution_count": null,
   "id": "56087283",
   "metadata": {},
   "outputs": [],
   "source": [
    "# load final results for Seattle Pizza\n",
    "seattle_pizza_df = pd.read_json(JSON_PIZZA_FILE)\n",
    "display(final_df.head(), final_df.tail())"
   ]
  },
  {
   "cell_type": "code",
   "execution_count": null,
   "id": "236da92c",
   "metadata": {},
   "outputs": [],
   "source": [
    "# check for duplicate IDs\n",
    "seattle_pizza_df.duplicated(subset='id').sum()"
   ]
  },
  {
   "cell_type": "code",
   "execution_count": null,
   "id": "06ca4a82",
   "metadata": {},
   "outputs": [],
   "source": [
    "# save the final results to a compressed csv\n",
    "seattle_pizza_df.to_csv('Data/final_results_Seattle_Pizza.csv.gz', compression='gzip',index=False)"
   ]
  },
  {
   "cell_type": "code",
   "execution_count": null,
   "id": "6f690bfa",
   "metadata": {},
   "outputs": [],
   "source": []
  }
 ],
 "metadata": {
  "kernelspec": {
   "display_name": "Python (dojo-env)",
   "language": "python",
   "name": "dojo-env"
  },
  "language_info": {
   "codemirror_mode": {
    "name": "ipython",
    "version": 3
   },
   "file_extension": ".py",
   "mimetype": "text/x-python",
   "name": "python",
   "nbconvert_exporter": "python",
   "pygments_lexer": "ipython3",
   "version": "3.8.13"
  },
  "toc": {
   "base_numbering": 1,
   "nav_menu": {},
   "number_sections": true,
   "sideBar": true,
   "skip_h1_title": false,
   "title_cell": "Table of Contents",
   "title_sidebar": "Contents",
   "toc_cell": false,
   "toc_position": {},
   "toc_section_display": true,
   "toc_window_display": false
  }
 },
 "nbformat": 4,
 "nbformat_minor": 5
}
